{
 "cells": [
  {
   "cell_type": "code",
   "execution_count": 1,
   "metadata": {},
   "outputs": [],
   "source": [
    "import math\n",
    "import pandas as pd\n",
    "import numpy as np\n",
    "from datetime import datetime\n",
    "import matplotlib.pyplot as plt\n",
    "from pandas.core.algorithms import mode\n",
    "from sklearn.preprocessing import LabelEncoder, MinMaxScaler\n",
    "from tensorflow.python.keras.backend import concatenate\n",
    "from sklearn.metrics import mean_squared_error\n",
    "from tensorflow.python.keras.callbacks import History\n",
    "#from series_to_supervised import series_to_supervised\n",
    "from keras.models import Sequential\n",
    "from keras.layers import Dense, Activation, Embedding, LSTM"
   ]
  },
  {
   "cell_type": "code",
   "execution_count": 2,
   "metadata": {},
   "outputs": [],
   "source": [
    "def rename (dataset_1,dataset_2,dataset_3):\n",
    "    nn_1 = []\n",
    "    lt_1 = list(dataset_1)\n",
    "    for i in range(len(lt_1)):\n",
    "        nn_1.append(lt_1[i]+'_1')\n",
    "    dataset_1.columns = nn_1\n",
    "    nn_2 = []\n",
    "    lt_2 = list(dataset_2)\n",
    "    for i in range(len(lt_2)):\n",
    "        nn_2.append(lt_2[i]+'_2')\n",
    "    dataset_2.columns = nn_2\n",
    "    nn_3 = []\n",
    "    lt_3 = list(dataset_3)\n",
    "    for i in range(len(lt_3)):\n",
    "        nn_3.append(lt_3[i]+'_3')\n",
    "    dataset_3.columns = nn_3"
   ]
  },
  {
   "cell_type": "code",
   "execution_count": 75,
   "metadata": {},
   "outputs": [],
   "source": [
    "def values (dataset):\n",
    "    dataset['rl_wave'] = dataset['wave']\n",
    "    dataset= dataset.drop(['wave'],axis=1)\n",
    "    values = dataset.values #数值特征变量\n",
    "    # convert series to supervised learning\n",
    "    def series_to_supervised(data, n_in=1, n_out=1, dropnan=True):\n",
    "        n_vars = 1 if type(data) is list else data.shape[1]\n",
    "        df = pd.DataFrame(data)\n",
    "        cols, names = list(), list()\n",
    "        # input sequence (t-n, ... t-1)\n",
    "        for i in range(n_in, 0, -1):\n",
    "            cols.append(df.shift(i))\n",
    "            names += [('var%d(t-%d)' % (j+1, i)) for j in range(n_vars)]\n",
    "        # forecast sequence (t, t+1, ... t+n)\n",
    "        for i in range(0, n_out):\n",
    "            cols.append(df.shift(-i))\n",
    "            if i == 0:\n",
    "                names += [('var%d(t)' % (j+1)) for j in range(n_vars)]\n",
    "            else:\n",
    "                names += [('var%d(t+%d)' % (j+1, i)) for j in range(n_vars)]\n",
    "        # put it all together\n",
    "        agg = pd.concat(cols, axis=1)\n",
    "        agg.columns = names\n",
    "        # drop rows with NaN values\n",
    "        if dropnan:\n",
    "            agg.dropna(inplace=True)\n",
    "        return agg\n",
    "    # ensure all data is float\n",
    "    values = values.astype('float32')\n",
    "    # normalize features 歸一化\n",
    "    scaler = MinMaxScaler(feature_range=(0, 1))\n",
    "    scaled = scaler.fit_transform(values)\n",
    "    # frame as supervised learning\n",
    "    reframed = series_to_supervised(scaled, 1, 1)\n",
    "    # drop columns we don't want to predict\n",
    "    reframed.drop(reframed.columns[[range(len(list(dataset)),len(list(dataset))*2)]], axis=1, inplace=True)\n",
    "    \n",
    "    # split into train and test sets\n",
    "    values = reframed.values\n",
    "    n_train_hours = int(len(values)*0.7)\n",
    "    train = values[:n_train_hours, :]\n",
    "    test = values[n_train_hours:, :]\n",
    "    # split into input and outputs\n",
    "    train_X, train_y = train[:,:-1], train[:, -1]\n",
    "    test_X, test_y = test[:, :-1], test[:, -1]\n",
    "    # reshape input to be 3D [samples, timesteps, features]\n",
    "    train_X = train_X.reshape((train_X.shape[0], 1, train_X.shape[1]))\n",
    "    test_X = test_X.reshape((test_X.shape[0], 1, test_X.shape[1]))\n",
    "    #print(train_X.shape, train_y.shape, test_X.shape, test_y.shape)\n",
    "    return(train_X ,test_X,train_y,test_y)\n",
    "    "
   ]
  },
  {
   "cell_type": "code",
   "execution_count": 32,
   "metadata": {},
   "outputs": [],
   "source": [
    "dataset_0 = pd.read_csv(\"D:/openpose_data/揮手測試/揮手_左右/揮手測試_ALL.csv\", header= None) \n",
    "dataset_1 = pd.read_csv(\"D:/openpose_data/揮手測試/揮手_左右/揮手測試_相關距離.csv\") \n",
    "dataset_2 = pd.read_csv(\"D:/openpose_data/揮手測試/揮手_左右/揮手測試_移動距離_1.csv\") \n",
    "dataset_3 = pd.read_csv(\"D:/openpose_data/揮手測試/揮手_左右/揮手測試_關節角度.csv\") \n",
    "dataset_4 = pd.read_csv(\"D:/openpose_data/揮手測試/揮手_左右/揮手測試_方向.csv\") \n",
    "dataset_5 = pd.read_csv(\"D:/openpose_data/揮手測試/揮手_左右/揮手測試_關節向量.csv\") "
   ]
  },
  {
   "cell_type": "code",
   "execution_count": 116,
   "metadata": {},
   "outputs": [
    {
     "name": "stderr",
     "output_type": "stream",
     "text": [
      "C:\\Users\\DodoLu\\AppData\\Local\\Packages\\PythonSoftwareFoundation.Python.3.9_qbz5n2kfra8p0\\LocalCache\\local-packages\\Python39\\site-packages\\pandas\\core\\indexes\\base.py:5055: FutureWarning: Using a non-tuple sequence for multidimensional indexing is deprecated; use `arr[tuple(seq)]` instead of `arr[seq]`. In the future this will be interpreted as an array index, `arr[np.array(seq)]`, which will result either in an error or a different result.\n",
      "  result = getitem(key)\n"
     ]
    }
   ],
   "source": [
    "dataset_0 = pd.read_csv(\"D:/openpose_data/揮手測試/揮手_右手向右/揮手測試_all_標記.csv\")#, header= None) \n",
    "dataset_1 = pd.read_csv(\"D:/openpose_data/揮手測試/揮手_右手向右/揮手測試_相關距離.csv\") \n",
    "dataset_2 = pd.read_csv(\"D:/openpose_data/揮手測試/揮手_右手向右/揮手測試_移動距離_1.csv\") \n",
    "dataset_3 = pd.read_csv(\"D:/openpose_data/揮手測試/揮手_右手向右/揮手測試_關節角度.csv\") \n",
    "dataset_4 = pd.read_csv(\"D:/openpose_data/揮手測試/揮手_右手向右/揮手測試_關節向量.csv\") \n",
    "rename(dataset_1,dataset_2,dataset_3)\n",
    "dataset_rr = pd.concat([dataset_0,dataset_1,dataset_2,dataset_3,dataset_4],axis= 1).dropna(axis=0)\n",
    "dataset_rr = dataset_rr[50:1035]\n",
    "train_X_rr ,test_X_rr ,train_y_rr ,test_y_rr = values(dataset_rr)"
   ]
  },
  {
   "cell_type": "code",
   "execution_count": 128,
   "metadata": {},
   "outputs": [
    {
     "name": "stderr",
     "output_type": "stream",
     "text": [
      "C:\\Users\\DodoLu\\AppData\\Local\\Packages\\PythonSoftwareFoundation.Python.3.9_qbz5n2kfra8p0\\LocalCache\\local-packages\\Python39\\site-packages\\pandas\\core\\indexes\\base.py:5055: FutureWarning: Using a non-tuple sequence for multidimensional indexing is deprecated; use `arr[tuple(seq)]` instead of `arr[seq]`. In the future this will be interpreted as an array index, `arr[np.array(seq)]`, which will result either in an error or a different result.\n",
      "  result = getitem(key)\n"
     ]
    }
   ],
   "source": [
    "dataset_0 = pd.read_csv(\"D:/openpose_data/揮手測試/揮手_右手向左/揮手測試_all_標記.csv\")#, header= None) \n",
    "dataset_1 = pd.read_csv(\"D:/openpose_data/揮手測試/揮手_右手向左/揮手測試_相關距離.csv\") \n",
    "dataset_2 = pd.read_csv(\"D:/openpose_data/揮手測試/揮手_右手向左/揮手測試_移動距離_1.csv\") \n",
    "dataset_3 = pd.read_csv(\"D:/openpose_data/揮手測試/揮手_右手向左/揮手測試_關節角度.csv\") \n",
    "dataset_4 = pd.read_csv(\"D:/openpose_data/揮手測試/揮手_右手向左/揮手測試_關節向量.csv\") \n",
    "rename(dataset_1,dataset_2,dataset_3)\n",
    "dataset_rl = pd.concat([dataset_0,dataset_1,dataset_2,dataset_3,dataset_4],axis= 1).dropna(axis=0)\n",
    "dataset_rl = dataset_rl[50:970]\n",
    "train_X_rl ,test_X_rl ,train_y_rl ,test_y_rl = values(dataset_rl)\n",
    "train_y_rl[train_y_rl ==1] = 2\n",
    "test_y_rl[test_y_rl ==1] = 2"
   ]
  },
  {
   "cell_type": "code",
   "execution_count": 118,
   "metadata": {},
   "outputs": [
    {
     "name": "stderr",
     "output_type": "stream",
     "text": [
      "C:\\Users\\DodoLu\\AppData\\Local\\Packages\\PythonSoftwareFoundation.Python.3.9_qbz5n2kfra8p0\\LocalCache\\local-packages\\Python39\\site-packages\\pandas\\core\\indexes\\base.py:5055: FutureWarning: Using a non-tuple sequence for multidimensional indexing is deprecated; use `arr[tuple(seq)]` instead of `arr[seq]`. In the future this will be interpreted as an array index, `arr[np.array(seq)]`, which will result either in an error or a different result.\n",
      "  result = getitem(key)\n"
     ]
    }
   ],
   "source": [
    "dataset_0 = pd.read_csv(\"D:/openpose_data/揮手測試/揮手_左手向右/揮手測試_all_標記.csv\")#, header= None) \n",
    "dataset_1 = pd.read_csv(\"D:/openpose_data/揮手測試/揮手_左手向右/揮手測試_相關距離.csv\") \n",
    "dataset_2 = pd.read_csv(\"D:/openpose_data/揮手測試/揮手_左手向右/揮手測試_移動距離_1.csv\") \n",
    "dataset_3 = pd.read_csv(\"D:/openpose_data/揮手測試/揮手_左手向右/揮手測試_關節角度.csv\") \n",
    "dataset_4 = pd.read_csv(\"D:/openpose_data/揮手測試/揮手_左手向右/揮手測試_關節向量.csv\") \n",
    "rename(dataset_1,dataset_2,dataset_3)\n",
    "dataset_lr = pd.concat([dataset_0,dataset_1,dataset_2,dataset_3,dataset_4],axis= 1).dropna(axis=0)\n",
    "dataset_lr = dataset_lr[50:950]\n",
    "train_X_lr ,test_X_lr ,train_y_lr ,test_y_lr = values(dataset_lr)\n",
    "train_y_lr[train_y_lr ==1] = 3\n",
    "test_y_lr[test_y_lr ==1] = 3"
   ]
  },
  {
   "cell_type": "code",
   "execution_count": 119,
   "metadata": {},
   "outputs": [
    {
     "name": "stderr",
     "output_type": "stream",
     "text": [
      "C:\\Users\\DodoLu\\AppData\\Local\\Packages\\PythonSoftwareFoundation.Python.3.9_qbz5n2kfra8p0\\LocalCache\\local-packages\\Python39\\site-packages\\pandas\\core\\indexes\\base.py:5055: FutureWarning: Using a non-tuple sequence for multidimensional indexing is deprecated; use `arr[tuple(seq)]` instead of `arr[seq]`. In the future this will be interpreted as an array index, `arr[np.array(seq)]`, which will result either in an error or a different result.\n",
      "  result = getitem(key)\n"
     ]
    }
   ],
   "source": [
    "dataset_0 = pd.read_csv(\"D:/openpose_data/揮手測試/揮手_左手向左/揮手測試_all_標記.csv\")#, header= None) \n",
    "dataset_1 = pd.read_csv(\"D:/openpose_data/揮手測試/揮手_左手向左/揮手測試_相關距離.csv\") \n",
    "dataset_2 = pd.read_csv(\"D:/openpose_data/揮手測試/揮手_左手向左/揮手測試_移動距離_1.csv\") \n",
    "dataset_3 = pd.read_csv(\"D:/openpose_data/揮手測試/揮手_左手向左/揮手測試_關節角度.csv\") \n",
    "dataset_4 = pd.read_csv(\"D:/openpose_data/揮手測試/揮手_左手向左/揮手測試_關節向量.csv\") \n",
    "rename(dataset_1,dataset_2,dataset_3)\n",
    "dataset_ll = pd.concat([dataset_0,dataset_1,dataset_2,dataset_3,dataset_4],axis= 1).dropna(axis=0)\n",
    "dataset_ll = dataset_ll[50:1040]\n",
    "train_X_ll ,test_X_ll ,train_y_ll ,test_y_ll = values(dataset_ll)\n",
    "train_y_ll[train_y_ll ==1] = 4\n",
    "test_y_ll[test_y_ll ==1] = 4"
   ]
  },
  {
   "cell_type": "code",
   "execution_count": 129,
   "metadata": {},
   "outputs": [],
   "source": [
    "train_X = np.concatenate((train_X_rr ,train_X_rl ,train_X_lr ,train_X_ll))\n",
    "test_X = np.concatenate((test_X_rr ,test_X_rl ,test_X_lr ,test_X_ll))\n",
    "train_y = np.concatenate((train_y_rr ,train_y_rl ,train_y_lr ,train_y_ll))\n",
    "test_y = np.concatenate((test_y_rr ,test_y_rl ,test_y_lr ,test_y_ll))"
   ]
  },
  {
   "cell_type": "code",
   "execution_count": 130,
   "metadata": {},
   "outputs": [
    {
     "name": "stdout",
     "output_type": "stream",
     "text": [
      "Epoch 1/50\n",
      "19/19 - 3s - loss: 1.0905 - val_loss: 0.8832 - 3s/epoch - 178ms/step\n",
      "Epoch 2/50\n",
      "19/19 - 0s - loss: 0.9587 - val_loss: 0.9124 - 306ms/epoch - 16ms/step\n",
      "Epoch 3/50\n",
      "19/19 - 0s - loss: 0.9335 - val_loss: 0.7872 - 312ms/epoch - 16ms/step\n",
      "Epoch 4/50\n",
      "19/19 - 0s - loss: 0.8524 - val_loss: 1.2002 - 305ms/epoch - 16ms/step\n",
      "Epoch 5/50\n",
      "19/19 - 0s - loss: 0.9148 - val_loss: 1.0571 - 304ms/epoch - 16ms/step\n",
      "Epoch 6/50\n",
      "19/19 - 0s - loss: 0.9032 - val_loss: 1.3846 - 310ms/epoch - 16ms/step\n",
      "Epoch 7/50\n",
      "19/19 - 0s - loss: 1.3210 - val_loss: 0.8087 - 304ms/epoch - 16ms/step\n",
      "Epoch 8/50\n",
      "19/19 - 0s - loss: 1.0299 - val_loss: 0.9340 - 301ms/epoch - 16ms/step\n",
      "Epoch 9/50\n",
      "19/19 - 0s - loss: 0.9538 - val_loss: 0.8070 - 305ms/epoch - 16ms/step\n",
      "Epoch 10/50\n",
      "19/19 - 0s - loss: 0.8729 - val_loss: 0.7364 - 298ms/epoch - 16ms/step\n",
      "Epoch 11/50\n",
      "19/19 - 0s - loss: 0.7256 - val_loss: 0.6100 - 305ms/epoch - 16ms/step\n",
      "Epoch 12/50\n",
      "19/19 - 0s - loss: 0.5756 - val_loss: 0.5399 - 322ms/epoch - 17ms/step\n",
      "Epoch 13/50\n",
      "19/19 - 0s - loss: 0.5360 - val_loss: 0.5061 - 301ms/epoch - 16ms/step\n",
      "Epoch 14/50\n",
      "19/19 - 0s - loss: 0.5136 - val_loss: 0.4914 - 296ms/epoch - 16ms/step\n",
      "Epoch 15/50\n",
      "19/19 - 0s - loss: 0.4740 - val_loss: 0.6262 - 323ms/epoch - 17ms/step\n",
      "Epoch 16/50\n",
      "19/19 - 0s - loss: 0.5065 - val_loss: 0.4521 - 304ms/epoch - 16ms/step\n",
      "Epoch 17/50\n",
      "19/19 - 0s - loss: 0.4311 - val_loss: 0.4978 - 295ms/epoch - 16ms/step\n",
      "Epoch 18/50\n",
      "19/19 - 0s - loss: 0.4373 - val_loss: 0.4952 - 292ms/epoch - 15ms/step\n",
      "Epoch 19/50\n",
      "19/19 - 0s - loss: 0.4734 - val_loss: 0.6521 - 303ms/epoch - 16ms/step\n",
      "Epoch 20/50\n",
      "19/19 - 0s - loss: 0.6887 - val_loss: 0.8034 - 296ms/epoch - 16ms/step\n",
      "Epoch 21/50\n",
      "19/19 - 0s - loss: 0.5639 - val_loss: 0.5903 - 298ms/epoch - 16ms/step\n",
      "Epoch 22/50\n",
      "19/19 - 0s - loss: 0.6043 - val_loss: 0.5381 - 294ms/epoch - 15ms/step\n",
      "Epoch 23/50\n",
      "19/19 - 0s - loss: 0.6290 - val_loss: 0.7889 - 301ms/epoch - 16ms/step\n",
      "Epoch 24/50\n",
      "19/19 - 0s - loss: 0.8106 - val_loss: 0.7342 - 287ms/epoch - 15ms/step\n",
      "Epoch 25/50\n",
      "19/19 - 0s - loss: 0.7869 - val_loss: 0.5539 - 276ms/epoch - 15ms/step\n",
      "Epoch 26/50\n",
      "19/19 - 0s - loss: 0.5256 - val_loss: 0.4662 - 279ms/epoch - 15ms/step\n",
      "Epoch 27/50\n",
      "19/19 - 0s - loss: 0.4654 - val_loss: 0.5510 - 272ms/epoch - 14ms/step\n",
      "Epoch 28/50\n",
      "19/19 - 0s - loss: 0.4802 - val_loss: 0.5684 - 274ms/epoch - 14ms/step\n",
      "Epoch 29/50\n",
      "19/19 - 0s - loss: 0.4979 - val_loss: 0.6741 - 262ms/epoch - 14ms/step\n",
      "Epoch 30/50\n",
      "19/19 - 0s - loss: 0.5316 - val_loss: 0.6813 - 282ms/epoch - 15ms/step\n",
      "Epoch 31/50\n",
      "19/19 - 0s - loss: 0.6425 - val_loss: 0.7308 - 269ms/epoch - 14ms/step\n",
      "Epoch 32/50\n",
      "19/19 - 0s - loss: 0.8377 - val_loss: 0.6040 - 257ms/epoch - 14ms/step\n",
      "Epoch 33/50\n",
      "19/19 - 0s - loss: 0.6153 - val_loss: 0.5568 - 257ms/epoch - 14ms/step\n",
      "Epoch 34/50\n",
      "19/19 - 0s - loss: 0.5156 - val_loss: 0.4356 - 259ms/epoch - 14ms/step\n",
      "Epoch 35/50\n",
      "19/19 - 0s - loss: 0.4257 - val_loss: 0.4969 - 259ms/epoch - 14ms/step\n",
      "Epoch 36/50\n",
      "19/19 - 0s - loss: 0.4252 - val_loss: 0.5358 - 253ms/epoch - 13ms/step\n",
      "Epoch 37/50\n",
      "19/19 - 0s - loss: 0.4384 - val_loss: 0.5377 - 260ms/epoch - 14ms/step\n",
      "Epoch 38/50\n",
      "19/19 - 0s - loss: 0.4712 - val_loss: 0.7777 - 254ms/epoch - 13ms/step\n",
      "Epoch 39/50\n",
      "19/19 - 0s - loss: 0.5022 - val_loss: 0.6606 - 253ms/epoch - 13ms/step\n",
      "Epoch 40/50\n",
      "19/19 - 0s - loss: 0.4960 - val_loss: 0.5716 - 245ms/epoch - 13ms/step\n",
      "Epoch 41/50\n",
      "19/19 - 0s - loss: 0.4910 - val_loss: 0.5875 - 261ms/epoch - 14ms/step\n",
      "Epoch 42/50\n",
      "19/19 - 0s - loss: 0.5500 - val_loss: 0.9170 - 253ms/epoch - 13ms/step\n",
      "Epoch 43/50\n",
      "19/19 - 0s - loss: 0.8039 - val_loss: 0.5869 - 255ms/epoch - 13ms/step\n",
      "Epoch 44/50\n",
      "19/19 - 0s - loss: 0.6745 - val_loss: 0.5632 - 250ms/epoch - 13ms/step\n",
      "Epoch 45/50\n",
      "19/19 - 0s - loss: 0.5055 - val_loss: 0.4178 - 257ms/epoch - 14ms/step\n",
      "Epoch 46/50\n",
      "19/19 - 0s - loss: 0.4380 - val_loss: 0.5178 - 248ms/epoch - 13ms/step\n",
      "Epoch 47/50\n",
      "19/19 - 0s - loss: 0.4437 - val_loss: 0.4583 - 251ms/epoch - 13ms/step\n",
      "Epoch 48/50\n",
      "19/19 - 0s - loss: 0.4545 - val_loss: 0.4424 - 248ms/epoch - 13ms/step\n",
      "Epoch 49/50\n",
      "19/19 - 0s - loss: 0.4773 - val_loss: 0.5364 - 252ms/epoch - 13ms/step\n",
      "Epoch 50/50\n",
      "19/19 - 0s - loss: 0.5589 - val_loss: 0.7379 - 244ms/epoch - 13ms/step\n"
     ]
    },
    {
     "data": {
      "image/png": "[encoded data removed]",
      "text/plain": [
       "<Figure size 432x288 with 1 Axes>"
      ]
     },
     "metadata": {
      "needs_background": "light"
     },
     "output_type": "display_data"
    },
    {
     "name": "stdout",
     "output_type": "stream",
     "text": [
      "Epoch 1/50\n",
      "37/37 - 4s - loss: 1.0198 - val_loss: 0.8589 - 4s/epoch - 95ms/step\n",
      "Epoch 2/50\n",
      "37/37 - 0s - loss: 0.9579 - val_loss: 0.8534 - 149ms/epoch - 4ms/step\n",
      "Epoch 3/50\n",
      "37/37 - 0s - loss: 0.9120 - val_loss: 0.8902 - 159ms/epoch - 4ms/step\n",
      "Epoch 4/50\n",
      "37/37 - 0s - loss: 0.8974 - val_loss: 0.7798 - 158ms/epoch - 4ms/step\n",
      "Epoch 5/50\n",
      "37/37 - 0s - loss: 0.8200 - val_loss: 0.9691 - 170ms/epoch - 5ms/step\n",
      "Epoch 6/50\n",
      "37/37 - 0s - loss: 1.0124 - val_loss: 0.7108 - 170ms/epoch - 5ms/step\n",
      "Epoch 7/50\n",
      "37/37 - 0s - loss: 0.7359 - val_loss: 0.6789 - 158ms/epoch - 4ms/step\n",
      "Epoch 8/50\n",
      "37/37 - 0s - loss: 0.7172 - val_loss: 0.6802 - 160ms/epoch - 4ms/step\n",
      "Epoch 9/50\n",
      "37/37 - 0s - loss: 0.7237 - val_loss: 0.6288 - 167ms/epoch - 5ms/step\n",
      "Epoch 10/50\n",
      "37/37 - 0s - loss: 0.6154 - val_loss: 0.6029 - 168ms/epoch - 5ms/step\n",
      "Epoch 11/50\n",
      "37/37 - 0s - loss: 0.5627 - val_loss: 0.5981 - 179ms/epoch - 5ms/step\n",
      "Epoch 12/50\n",
      "37/37 - 0s - loss: 0.5867 - val_loss: 0.6046 - 160ms/epoch - 4ms/step\n",
      "Epoch 13/50\n",
      "37/37 - 0s - loss: 0.5737 - val_loss: 0.5907 - 160ms/epoch - 4ms/step\n",
      "Epoch 14/50\n",
      "37/37 - 0s - loss: 0.5752 - val_loss: 0.5482 - 155ms/epoch - 4ms/step\n",
      "Epoch 15/50\n",
      "37/37 - 0s - loss: 0.5600 - val_loss: 0.5137 - 156ms/epoch - 4ms/step\n",
      "Epoch 16/50\n",
      "37/37 - 0s - loss: 0.4871 - val_loss: 0.5667 - 151ms/epoch - 4ms/step\n",
      "Epoch 17/50\n",
      "37/37 - 0s - loss: 0.4888 - val_loss: 0.6666 - 154ms/epoch - 4ms/step\n",
      "Epoch 18/50\n",
      "37/37 - 0s - loss: 0.5149 - val_loss: 0.6315 - 152ms/epoch - 4ms/step\n",
      "Epoch 19/50\n",
      "37/37 - 0s - loss: 0.5069 - val_loss: 0.5181 - 148ms/epoch - 4ms/step\n",
      "Epoch 20/50\n",
      "37/37 - 0s - loss: 0.4666 - val_loss: 0.5249 - 150ms/epoch - 4ms/step\n",
      "Epoch 21/50\n",
      "37/37 - 0s - loss: 0.4538 - val_loss: 0.5123 - 146ms/epoch - 4ms/step\n",
      "Epoch 22/50\n",
      "37/37 - 0s - loss: 0.4331 - val_loss: 0.4975 - 150ms/epoch - 4ms/step\n",
      "Epoch 23/50\n",
      "37/37 - 0s - loss: 0.4222 - val_loss: 0.4647 - 147ms/epoch - 4ms/step\n",
      "Epoch 24/50\n",
      "37/37 - 0s - loss: 0.4281 - val_loss: 0.4921 - 145ms/epoch - 4ms/step\n",
      "Epoch 25/50\n",
      "37/37 - 0s - loss: 0.4318 - val_loss: 0.5583 - 153ms/epoch - 4ms/step\n",
      "Epoch 26/50\n",
      "37/37 - 0s - loss: 0.4789 - val_loss: 0.6394 - 152ms/epoch - 4ms/step\n",
      "Epoch 27/50\n",
      "37/37 - 0s - loss: 0.4951 - val_loss: 0.5140 - 149ms/epoch - 4ms/step\n",
      "Epoch 28/50\n",
      "37/37 - 0s - loss: 0.4342 - val_loss: 0.4245 - 152ms/epoch - 4ms/step\n",
      "Epoch 29/50\n",
      "37/37 - 0s - loss: 0.4291 - val_loss: 0.4070 - 158ms/epoch - 4ms/step\n",
      "Epoch 30/50\n",
      "37/37 - 0s - loss: 0.4477 - val_loss: 0.4050 - 151ms/epoch - 4ms/step\n",
      "Epoch 31/50\n",
      "37/37 - 0s - loss: 0.4449 - val_loss: 0.4315 - 159ms/epoch - 4ms/step\n",
      "Epoch 32/50\n",
      "37/37 - 0s - loss: 0.4982 - val_loss: 0.4679 - 151ms/epoch - 4ms/step\n",
      "Epoch 33/50\n",
      "37/37 - 0s - loss: 0.4814 - val_loss: 0.4369 - 154ms/epoch - 4ms/step\n",
      "Epoch 34/50\n",
      "37/37 - 0s - loss: 0.4044 - val_loss: 0.5123 - 151ms/epoch - 4ms/step\n",
      "Epoch 35/50\n",
      "37/37 - 0s - loss: 0.3930 - val_loss: 0.4680 - 151ms/epoch - 4ms/step\n",
      "Epoch 36/50\n",
      "37/37 - 0s - loss: 0.3816 - val_loss: 0.4435 - 152ms/epoch - 4ms/step\n",
      "Epoch 37/50\n",
      "37/37 - 0s - loss: 0.3768 - val_loss: 0.4416 - 154ms/epoch - 4ms/step\n",
      "Epoch 38/50\n",
      "37/37 - 0s - loss: 0.3790 - val_loss: 0.4440 - 152ms/epoch - 4ms/step\n",
      "Epoch 39/50\n",
      "37/37 - 0s - loss: 0.3862 - val_loss: 0.4860 - 151ms/epoch - 4ms/step\n",
      "Epoch 40/50\n",
      "37/37 - 0s - loss: 0.3902 - val_loss: 0.5151 - 150ms/epoch - 4ms/step\n",
      "Epoch 41/50\n",
      "37/37 - 0s - loss: 0.3937 - val_loss: 0.5223 - 153ms/epoch - 4ms/step\n",
      "Epoch 42/50\n",
      "37/37 - 0s - loss: 0.4541 - val_loss: 0.5245 - 149ms/epoch - 4ms/step\n",
      "Epoch 43/50\n",
      "37/37 - 0s - loss: 0.4127 - val_loss: 0.4172 - 156ms/epoch - 4ms/step\n",
      "Epoch 44/50\n",
      "37/37 - 0s - loss: 0.3884 - val_loss: 0.4122 - 154ms/epoch - 4ms/step\n",
      "Epoch 45/50\n",
      "37/37 - 0s - loss: 0.3910 - val_loss: 0.4202 - 180ms/epoch - 5ms/step\n",
      "Epoch 46/50\n",
      "37/37 - 0s - loss: 0.4223 - val_loss: 0.4981 - 155ms/epoch - 4ms/step\n",
      "Epoch 47/50\n",
      "37/37 - 0s - loss: 0.4900 - val_loss: 0.4647 - 178ms/epoch - 5ms/step\n",
      "Epoch 48/50\n",
      "37/37 - 0s - loss: 0.4454 - val_loss: 0.4294 - 153ms/epoch - 4ms/step\n",
      "Epoch 49/50\n",
      "37/37 - 0s - loss: 0.3834 - val_loss: 0.4731 - 150ms/epoch - 4ms/step\n",
      "Epoch 50/50\n",
      "37/37 - 0s - loss: 0.4176 - val_loss: 0.4059 - 151ms/epoch - 4ms/step\n"
     ]
    },
    {
     "data": {
      "image/png": "[encoded data removed]",
      "text/plain": [
       "<Figure size 432x288 with 1 Axes>"
      ]
     },
     "metadata": {
      "needs_background": "light"
     },
     "output_type": "display_data"
    }
   ],
   "source": [
    "# design network\n",
    "model = Sequential()\n",
    "model.add(LSTM(500, input_shape=(train_X.shape[1], train_X.shape[2])))\n",
    "model.add(Dense(1))\n",
    "model.compile(loss='mae', optimizer='adam')\n",
    "# fit network\n",
    "history = model.fit(train_X, train_y, epochs=50, batch_size=144, validation_data=(test_X, test_y), verbose=2, shuffle=False)#False\n",
    "# plot history\n",
    "plt.plot(history.history['loss'], label='train')\n",
    "plt.plot(history.history['val_loss'], label='test')\n",
    "plt.legend()\n",
    "plt.show()\n",
    "\n",
    "# design network\n",
    "model = Sequential()\n",
    "model.add(LSTM(100, input_shape=(train_X.shape[1], train_X.shape[2])))\n",
    "model.add(Dense(1))\n",
    "model.compile(loss='mae', optimizer='adam')\n",
    "# fit network\n",
    "history = model.fit(train_X, train_y, epochs=50, batch_size=72, validation_data=(test_X, test_y), verbose=2, shuffle=False)\n",
    "# plot history\n",
    "plt.plot(history.history['loss'], label='train')\n",
    "plt.plot(history.history['val_loss'], label='test')\n",
    "plt.legend()\n",
    "plt.show()\n"
   ]
  },
  {
   "cell_type": "code",
   "execution_count": 186,
   "metadata": {},
   "outputs": [
    {
     "name": "stdout",
     "output_type": "stream",
     "text": [
      "Test RMSE: 0.624\n"
     ]
    },
    {
     "data": {
      "image/png": "[encoded data removed]",
      "text/plain": [
       "<Figure size 1440x216 with 1 Axes>"
      ]
     },
     "metadata": {
      "needs_background": "light"
     },
     "output_type": "display_data"
    }
   ],
   "source": [
    "# make a prediction\n",
    "yhat = model.predict(test_X)\n",
    "rmse = math.sqrt(mean_squared_error(yhat, test_y))\n",
    "print('Test RMSE: %.3f' % rmse)\n",
    "plt.figure(figsize=(20, 3))\n",
    "plt.plot(yhat)\n",
    "plt.plot(test_y)\n",
    "plt.axhline(y=1.8 ,color = 'red' , linestyle=\"-.\")\n",
    "plt.show()"
   ]
  },
  {
   "cell_type": "code",
   "execution_count": 177,
   "metadata": {},
   "outputs": [],
   "source": [
    "yhat_l = pd.DataFrame(yhat)"
   ]
  },
  {
   "cell_type": "code",
   "execution_count": 179,
   "metadata": {},
   "outputs": [
    {
     "data": {
      "text/html": [
       "<div>\n",
       "<style scoped>\n",
       "    .dataframe tbody tr th:only-of-type {\n",
       "        vertical-align: middle;\n",
       "    }\n",
       "\n",
       "    .dataframe tbody tr th {\n",
       "        vertical-align: top;\n",
       "    }\n",
       "\n",
       "    .dataframe thead th {\n",
       "        text-align: right;\n",
       "    }\n",
       "</style>\n",
       "<table border=\"1\" class=\"dataframe\">\n",
       "  <thead>\n",
       "    <tr style=\"text-align: right;\">\n",
       "      <th></th>\n",
       "      <th>0</th>\n",
       "    </tr>\n",
       "  </thead>\n",
       "  <tbody>\n",
       "    <tr>\n",
       "      <th>31</th>\n",
       "      <td>1.794958</td>\n",
       "    </tr>\n",
       "    <tr>\n",
       "      <th>412</th>\n",
       "      <td>2.068179</td>\n",
       "    </tr>\n",
       "    <tr>\n",
       "      <th>414</th>\n",
       "      <td>1.729931</td>\n",
       "    </tr>\n",
       "    <tr>\n",
       "      <th>512</th>\n",
       "      <td>1.969945</td>\n",
       "    </tr>\n",
       "    <tr>\n",
       "      <th>602</th>\n",
       "      <td>2.085894</td>\n",
       "    </tr>\n",
       "    <tr>\n",
       "      <th>630</th>\n",
       "      <td>1.824054</td>\n",
       "    </tr>\n",
       "    <tr>\n",
       "      <th>631</th>\n",
       "      <td>1.953032</td>\n",
       "    </tr>\n",
       "    <tr>\n",
       "      <th>693</th>\n",
       "      <td>1.849637</td>\n",
       "    </tr>\n",
       "    <tr>\n",
       "      <th>719</th>\n",
       "      <td>1.969758</td>\n",
       "    </tr>\n",
       "    <tr>\n",
       "      <th>720</th>\n",
       "      <td>1.726448</td>\n",
       "    </tr>\n",
       "    <tr>\n",
       "      <th>784</th>\n",
       "      <td>1.893883</td>\n",
       "    </tr>\n",
       "    <tr>\n",
       "      <th>809</th>\n",
       "      <td>2.017347</td>\n",
       "    </tr>\n",
       "    <tr>\n",
       "      <th>810</th>\n",
       "      <td>1.846659</td>\n",
       "    </tr>\n",
       "    <tr>\n",
       "      <th>811</th>\n",
       "      <td>1.757127</td>\n",
       "    </tr>\n",
       "    <tr>\n",
       "      <th>920</th>\n",
       "      <td>1.964873</td>\n",
       "    </tr>\n",
       "    <tr>\n",
       "      <th>921</th>\n",
       "      <td>1.737117</td>\n",
       "    </tr>\n",
       "    <tr>\n",
       "      <th>974</th>\n",
       "      <td>1.857926</td>\n",
       "    </tr>\n",
       "    <tr>\n",
       "      <th>1019</th>\n",
       "      <td>1.772167</td>\n",
       "    </tr>\n",
       "    <tr>\n",
       "      <th>1068</th>\n",
       "      <td>1.746305</td>\n",
       "    </tr>\n",
       "    <tr>\n",
       "      <th>1069</th>\n",
       "      <td>2.057526</td>\n",
       "    </tr>\n",
       "    <tr>\n",
       "      <th>1107</th>\n",
       "      <td>1.932850</td>\n",
       "    </tr>\n",
       "  </tbody>\n",
       "</table>\n",
       "</div>"
      ],
      "text/plain": [
       "             0\n",
       "31    1.794958\n",
       "412   2.068179\n",
       "414   1.729931\n",
       "512   1.969945\n",
       "602   2.085894\n",
       "630   1.824054\n",
       "631   1.953032\n",
       "693   1.849637\n",
       "719   1.969758\n",
       "720   1.726448\n",
       "784   1.893883\n",
       "809   2.017347\n",
       "810   1.846659\n",
       "811   1.757127\n",
       "920   1.964873\n",
       "921   1.737117\n",
       "974   1.857926\n",
       "1019  1.772167\n",
       "1068  1.746305\n",
       "1069  2.057526\n",
       "1107  1.932850"
      ]
     },
     "execution_count": 179,
     "metadata": {},
     "output_type": "execute_result"
    }
   ],
   "source": [
    "yhat_l[(yhat_l[0]>1.7)&(yhat_l[0]<2.1)]"
   ]
  },
  {
   "cell_type": "code",
   "execution_count": 197,
   "metadata": {},
   "outputs": [
    {
     "data": {
      "image/png": "[encoded data removed]",
      "text/plain": [
       "<Figure size 1440x216 with 1 Axes>"
      ]
     },
     "metadata": {
      "needs_background": "light"
     },
     "output_type": "display_data"
    }
   ],
   "source": [
    "plt.figure(figsize=(20, 3))\n",
    "plt.plot(yhat_l[(yhat_l[0]>1.8)&(yhat_l[0]<2.1)], linewidth=\"2\", markersize=\"10\", marker=\"o\")\n",
    "plt.plot(test_y)\n",
    "plt.axhline(y=1.8 ,color = 'red' , linestyle=\"-.\")\n",
    "plt.show()"
   ]
  },
  {
   "cell_type": "code",
   "execution_count": null,
   "metadata": {},
   "outputs": [],
   "source": []
  },
  {
   "cell_type": "code",
   "execution_count": 12,
   "metadata": {},
   "outputs": [],
   "source": [
    "df_drop = dataset.drop(['right_1','left_1','wave_1','right_2','left_2','wave_2','right_3','left_3','wave_3'],axis=1)#,'RElbow_3','RWrist_3'"
   ]
  },
  {
   "cell_type": "code",
   "execution_count": 51,
   "metadata": {},
   "outputs": [],
   "source": [
    "df_drop = dataset_rl.drop(['wave'],axis=1)"
   ]
  },
  {
   "cell_type": "code",
   "execution_count": 53,
   "metadata": {},
   "outputs": [
    {
     "data": {
      "text/plain": [
       "array([[0.00000000e+00, 0.00000000e+00, 0.00000000e+00, ...,\n",
       "        1.68000000e+02, 1.74000000e+02, 0.00000000e+00],\n",
       "       [6.86634583e+02, 1.35156116e+01, 5.43501675e-02, ...,\n",
       "        1.68000000e+02, 1.75000000e+02, 0.00000000e+00],\n",
       "       [0.00000000e+00, 0.00000000e+00, 0.00000000e+00, ...,\n",
       "        1.69000000e+02, 1.76000000e+02, 0.00000000e+00],\n",
       "       ...,\n",
       "       [7.70557190e+02, 5.79076042e+01, 5.54537177e-01, ...,\n",
       "        2.70000000e+01, 2.70000000e+01, 0.00000000e+00],\n",
       "       [7.70460754e+02, 5.80121994e+01, 5.66528141e-01, ...,\n",
       "        2.40000000e+01, 2.40000000e+01, 0.00000000e+00],\n",
       "       [7.65278198e+02, 5.83039970e+01, 5.39040208e-01, ...,\n",
       "        1.90000000e+01, 1.90000000e+01, 0.00000000e+00]])"
      ]
     },
     "execution_count": 53,
     "metadata": {},
     "output_type": "execute_result"
    }
   ],
   "source": [
    "#dataset = pd.read_csv(\"D:/openpose_data/UT_Kinect/RGB/s01_e01_all_標記walk.csv\") #读取数据\n",
    "#dataset.columns = [\"pm25\", \"dew\",  \"temp\", \"press\", \"wnd_dir\", \"wnd_spd\", \"snow\", \"rain\"] #重命名表头\n",
    "values = df_drop.values #数值特征变量\n",
    "values\n"
   ]
  },
  {
   "cell_type": "markdown",
   "metadata": {},
   "source": [
    "正規化----------------------------------------------------------------------------------------------------------------------------------------------------------"
   ]
  },
  {
   "cell_type": "code",
   "execution_count": 54,
   "metadata": {},
   "outputs": [],
   "source": [
    "# convert series to supervised learning\n",
    "def series_to_supervised(data, n_in=1, n_out=1, dropnan=True):\n",
    "    n_vars = 1 if type(data) is list else data.shape[1]\n",
    "    df = pd.DataFrame(data)\n",
    "    cols, names = list(), list()\n",
    "    # input sequence (t-n, ... t-1)\n",
    "    for i in range(n_in, 0, -1):\n",
    "        cols.append(df.shift(i))\n",
    "        names += [('var%d(t-%d)' % (j+1, i)) for j in range(n_vars)]\n",
    "    # forecast sequence (t, t+1, ... t+n)\n",
    "    for i in range(0, n_out):\n",
    "        cols.append(df.shift(-i))\n",
    "        if i == 0:\n",
    "            names += [('var%d(t)' % (j+1)) for j in range(n_vars)]\n",
    "        else:\n",
    "            names += [('var%d(t+%d)' % (j+1, i)) for j in range(n_vars)]\n",
    "    # put it all together\n",
    "    agg = pd.concat(cols, axis=1)\n",
    "    agg.columns = names\n",
    "    # drop rows with NaN values\n",
    "    if dropnan:\n",
    "        agg.dropna(inplace=True)\n",
    "    return agg"
   ]
  },
  {
   "cell_type": "code",
   "execution_count": 55,
   "metadata": {},
   "outputs": [
    {
     "name": "stdout",
     "output_type": "stream",
     "text": [
      "   var1(t-1)  var2(t-1)  var3(t-1)  var4(t-1)  var5(t-1)  var6(t-1)  \\\n",
      "1   0.000000   0.000000   0.000000   1.000000   0.576470   0.641135   \n",
      "2   0.885112   0.032619   0.056114   0.992127   0.559552   0.681631   \n",
      "3   0.000000   0.000000   0.000000   0.976771   0.551361   0.684953   \n",
      "4   0.000000   0.000000   0.000000   0.969124   0.559819   0.722916   \n",
      "5   0.000000   0.000000   0.000000   0.968534   0.576411   0.771644   \n",
      "\n",
      "   var7(t-1)  var8(t-1)  var9(t-1)  var10(t-1)  ...  var121(t-1)  var122(t-1)  \\\n",
      "1   0.486262   0.250001   0.447765    0.124655  ...          0.0          0.0   \n",
      "2   0.508460   0.239231   0.451700    0.147991  ...          0.0          0.0   \n",
      "3   0.530733   0.234036   0.463167    0.209875  ...          0.0          0.0   \n",
      "4   0.530897   0.228729   0.474329    0.240804  ...          0.0          0.0   \n",
      "5   0.542105   0.244658   0.479959    0.271581  ...          0.0          0.0   \n",
      "\n",
      "   var123(t-1)  var124(t-1)  var125(t-1)  var126(t-1)  var127(t-1)  \\\n",
      "1          0.0          0.0          0.0     0.593178     0.559509   \n",
      "2          0.0          0.0          0.0     0.591448     0.554536   \n",
      "3          0.0          0.0          0.0     0.587091     0.548553   \n",
      "4          0.0          0.0          0.0     0.571418     0.537555   \n",
      "5          0.0          0.0          0.0     0.571080     0.536478   \n",
      "\n",
      "   var128(t-1)  var129(t-1)  var130(t-1)  \n",
      "1     0.969274     0.986033          0.0  \n",
      "2     0.969274     0.988827          0.0  \n",
      "3     0.972067     0.991620          0.0  \n",
      "4     0.974860     0.994413          0.0  \n",
      "5     0.977654     0.997207          0.0  \n",
      "\n",
      "[5 rows x 130 columns]\n"
     ]
    },
    {
     "name": "stderr",
     "output_type": "stream",
     "text": [
      "C:\\Users\\DodoLu\\AppData\\Local\\Packages\\PythonSoftwareFoundation.Python.3.9_qbz5n2kfra8p0\\LocalCache\\local-packages\\Python39\\site-packages\\pandas\\core\\indexes\\base.py:5055: FutureWarning: Using a non-tuple sequence for multidimensional indexing is deprecated; use `arr[tuple(seq)]` instead of `arr[seq]`. In the future this will be interpreted as an array index, `arr[np.array(seq)]`, which will result either in an error or a different result.\n",
      "  result = getitem(key)\n"
     ]
    }
   ],
   "source": [
    "# ensure all data is float\n",
    "values = values.astype('float32')\n",
    "# normalize features 歸一化\n",
    "scaler = MinMaxScaler(feature_range=(0, 1))\n",
    "scaled = scaler.fit_transform(values)\n",
    "# frame as supervised learning\n",
    "reframed = series_to_supervised(scaled, 1, 1)\n",
    "# drop columns we don't want to predict\n",
    "reframed.drop(reframed.columns[[range(len(list(df_drop)),len(list(df_drop))*2)]], axis=1, inplace=True)\n",
    "print(reframed.head())"
   ]
  },
  {
   "cell_type": "code",
   "execution_count": 20,
   "metadata": {},
   "outputs": [
    {
     "data": {
      "text/plain": [
       "array([[419.45667   , 335.73663   ,   0.8106    , ..., 177.        ,\n",
       "        177.        ,   0.        ],\n",
       "       [434.9435    , 341.0321    ,   0.8618577 , ..., 178.        ,\n",
       "        178.        ,   0.        ],\n",
       "       [440.3599    , 346.12805   ,   0.90867186, ..., 175.99998   ,\n",
       "        177.        ,   0.        ],\n",
       "       ...,\n",
       "       [602.7388    , 367.18945   ,   0.8792608 , ..., 167.99998   ,\n",
       "        167.99998   ,   0.        ],\n",
       "       [602.8786    , 362.1026    ,   0.90722895, ..., 166.00002   ,\n",
       "        167.        ,   0.        ],\n",
       "       [607.92145   , 361.9332    ,   0.91608   , ..., 167.        ,\n",
       "        167.        ,   0.        ]], dtype=float32)"
      ]
     },
     "execution_count": 20,
     "metadata": {},
     "output_type": "execute_result"
    }
   ],
   "source": [
    "test1 = scaler.inverse_transform(scaled)#規一化還原成原本數值\n",
    "test1 "
   ]
  },
  {
   "cell_type": "code",
   "execution_count": null,
   "metadata": {},
   "outputs": [],
   "source": [
    "test1 = scaler.inverse_transform(scaled)"
   ]
  },
  {
   "cell_type": "code",
   "execution_count": 56,
   "metadata": {},
   "outputs": [
    {
     "name": "stdout",
     "output_type": "stream",
     "text": [
      "(728, 1, 129) (728,) (313, 1, 129) (313,)\n"
     ]
    }
   ],
   "source": [
    "# split into train and test sets\n",
    "values = reframed.values\n",
    "n_train_hours = int(len(values)*0.7)\n",
    "train = values[:n_train_hours, :]\n",
    "test = values[n_train_hours:, :]\n",
    "# split into input and outputs\n",
    "train_X, train_y = train[:,:-1], train[:, -1]\n",
    "test_X, test_y = test[:, :-1], test[:, -1]\n",
    "# reshape input to be 3D [samples, timesteps, features]\n",
    "train_X = train_X.reshape((train_X.shape[0], 1, train_X.shape[1]))\n",
    "test_X = test_X.reshape((test_X.shape[0], 1, test_X.shape[1]))\n",
    "print(train_X.shape, train_y.shape, test_X.shape, test_y.shape)"
   ]
  },
  {
   "cell_type": "code",
   "execution_count": 106,
   "metadata": {},
   "outputs": [
    {
     "name": "stdout",
     "output_type": "stream",
     "text": [
      "Epoch 1/50\n",
      "11/11 - 3s - loss: 0.6254 - val_loss: 0.3843 - 3s/epoch - 277ms/step\n",
      "Epoch 2/50\n",
      "11/11 - 0s - loss: 0.5317 - val_loss: 0.3301 - 227ms/epoch - 21ms/step\n",
      "Epoch 3/50\n",
      "11/11 - 0s - loss: 0.4667 - val_loss: 0.3349 - 205ms/epoch - 19ms/step\n",
      "Epoch 4/50\n",
      "11/11 - 0s - loss: 0.4431 - val_loss: 0.3827 - 199ms/epoch - 18ms/step\n",
      "Epoch 5/50\n",
      "11/11 - 0s - loss: 0.4582 - val_loss: 0.3832 - 195ms/epoch - 18ms/step\n",
      "Epoch 6/50\n",
      "11/11 - 0s - loss: 0.4428 - val_loss: 0.3299 - 219ms/epoch - 20ms/step\n",
      "Epoch 7/50\n",
      "11/11 - 0s - loss: 0.4032 - val_loss: 0.3136 - 199ms/epoch - 18ms/step\n",
      "Epoch 8/50\n",
      "11/11 - 0s - loss: 0.3721 - val_loss: 0.3025 - 190ms/epoch - 17ms/step\n",
      "Epoch 9/50\n",
      "11/11 - 0s - loss: 0.3491 - val_loss: 0.3143 - 193ms/epoch - 18ms/step\n",
      "Epoch 10/50\n",
      "11/11 - 0s - loss: 0.3778 - val_loss: 0.3520 - 195ms/epoch - 18ms/step\n",
      "Epoch 11/50\n",
      "11/11 - 0s - loss: 0.4543 - val_loss: 0.5848 - 200ms/epoch - 18ms/step\n",
      "Epoch 12/50\n",
      "11/11 - 0s - loss: 0.6408 - val_loss: 0.5958 - 194ms/epoch - 18ms/step\n",
      "Epoch 13/50\n",
      "11/11 - 0s - loss: 0.4662 - val_loss: 0.4095 - 194ms/epoch - 18ms/step\n",
      "Epoch 14/50\n",
      "11/11 - 0s - loss: 0.4858 - val_loss: 0.3436 - 196ms/epoch - 18ms/step\n",
      "Epoch 15/50\n",
      "11/11 - 0s - loss: 0.4016 - val_loss: 0.3206 - 186ms/epoch - 17ms/step\n",
      "Epoch 16/50\n",
      "11/11 - 0s - loss: 0.4060 - val_loss: 0.3057 - 197ms/epoch - 18ms/step\n",
      "Epoch 17/50\n",
      "11/11 - 0s - loss: 0.3473 - val_loss: 0.2675 - 179ms/epoch - 16ms/step\n",
      "Epoch 18/50\n",
      "11/11 - 0s - loss: 0.3243 - val_loss: 0.2579 - 178ms/epoch - 16ms/step\n",
      "Epoch 19/50\n",
      "11/11 - 0s - loss: 0.3147 - val_loss: 0.2618 - 181ms/epoch - 16ms/step\n",
      "Epoch 20/50\n",
      "11/11 - 0s - loss: 0.3444 - val_loss: 0.2961 - 182ms/epoch - 17ms/step\n",
      "Epoch 21/50\n",
      "11/11 - 0s - loss: 0.4094 - val_loss: 0.3737 - 189ms/epoch - 17ms/step\n",
      "Epoch 22/50\n",
      "11/11 - 0s - loss: 0.4546 - val_loss: 0.3646 - 195ms/epoch - 18ms/step\n",
      "Epoch 23/50\n",
      "11/11 - 0s - loss: 0.3382 - val_loss: 0.2582 - 202ms/epoch - 18ms/step\n",
      "Epoch 24/50\n",
      "11/11 - 0s - loss: 0.3319 - val_loss: 0.3016 - 189ms/epoch - 17ms/step\n",
      "Epoch 25/50\n",
      "11/11 - 0s - loss: 0.3525 - val_loss: 0.2551 - 185ms/epoch - 17ms/step\n",
      "Epoch 26/50\n",
      "11/11 - 0s - loss: 0.3164 - val_loss: 0.2345 - 192ms/epoch - 17ms/step\n",
      "Epoch 27/50\n",
      "11/11 - 0s - loss: 0.3096 - val_loss: 0.3192 - 199ms/epoch - 18ms/step\n",
      "Epoch 28/50\n",
      "11/11 - 0s - loss: 0.3741 - val_loss: 0.3550 - 185ms/epoch - 17ms/step\n",
      "Epoch 29/50\n",
      "11/11 - 0s - loss: 0.3673 - val_loss: 0.2650 - 176ms/epoch - 16ms/step\n",
      "Epoch 30/50\n",
      "11/11 - 0s - loss: 0.3711 - val_loss: 0.2872 - 182ms/epoch - 17ms/step\n",
      "Epoch 31/50\n",
      "11/11 - 0s - loss: 0.3641 - val_loss: 0.2620 - 196ms/epoch - 18ms/step\n",
      "Epoch 32/50\n",
      "11/11 - 0s - loss: 0.3014 - val_loss: 0.2461 - 191ms/epoch - 17ms/step\n",
      "Epoch 33/50\n",
      "11/11 - 0s - loss: 0.3002 - val_loss: 0.2242 - 178ms/epoch - 16ms/step\n",
      "Epoch 34/50\n",
      "11/11 - 0s - loss: 0.2965 - val_loss: 0.2270 - 179ms/epoch - 16ms/step\n",
      "Epoch 35/50\n",
      "11/11 - 0s - loss: 0.3021 - val_loss: 0.2480 - 181ms/epoch - 16ms/step\n",
      "Epoch 36/50\n",
      "11/11 - 0s - loss: 0.3328 - val_loss: 0.3073 - 204ms/epoch - 19ms/step\n",
      "Epoch 37/50\n",
      "11/11 - 0s - loss: 0.3558 - val_loss: 0.2378 - 185ms/epoch - 17ms/step\n",
      "Epoch 38/50\n",
      "11/11 - 0s - loss: 0.2818 - val_loss: 0.2188 - 185ms/epoch - 17ms/step\n",
      "Epoch 39/50\n",
      "11/11 - 0s - loss: 0.2779 - val_loss: 0.2209 - 189ms/epoch - 17ms/step\n",
      "Epoch 40/50\n",
      "11/11 - 0s - loss: 0.3000 - val_loss: 0.3339 - 189ms/epoch - 17ms/step\n",
      "Epoch 41/50\n",
      "11/11 - 0s - loss: 0.3450 - val_loss: 0.2825 - 179ms/epoch - 16ms/step\n",
      "Epoch 42/50\n",
      "11/11 - 0s - loss: 0.2970 - val_loss: 0.2566 - 186ms/epoch - 17ms/step\n",
      "Epoch 43/50\n",
      "11/11 - 0s - loss: 0.3451 - val_loss: 0.2889 - 185ms/epoch - 17ms/step\n",
      "Epoch 44/50\n",
      "11/11 - 0s - loss: 0.3477 - val_loss: 0.2310 - 180ms/epoch - 16ms/step\n",
      "Epoch 45/50\n",
      "11/11 - 0s - loss: 0.2644 - val_loss: 0.2087 - 181ms/epoch - 16ms/step\n",
      "Epoch 46/50\n",
      "11/11 - 0s - loss: 0.2683 - val_loss: 0.2133 - 188ms/epoch - 17ms/step\n",
      "Epoch 47/50\n",
      "11/11 - 0s - loss: 0.2726 - val_loss: 0.2449 - 195ms/epoch - 18ms/step\n",
      "Epoch 48/50\n",
      "11/11 - 0s - loss: 0.2788 - val_loss: 0.2757 - 215ms/epoch - 20ms/step\n",
      "Epoch 49/50\n",
      "11/11 - 0s - loss: 0.2694 - val_loss: 0.2302 - 199ms/epoch - 18ms/step\n",
      "Epoch 50/50\n",
      "11/11 - 0s - loss: 0.2617 - val_loss: 0.2163 - 194ms/epoch - 18ms/step\n"
     ]
    },
    {
     "data": {
      "image/png": "[encoded data removed]",
      "text/plain": [
       "<Figure size 432x288 with 1 Axes>"
      ]
     },
     "metadata": {
      "needs_background": "light"
     },
     "output_type": "display_data"
    },
    {
     "data": {
      "text/plain": [
       "\"\\n# design network\\nmodel = Sequential()\\nmodel.add(LSTM(100, input_shape=(train_X.shape[1], train_X.shape[2])))\\nmodel.add(Dense(1))\\nmodel.compile(loss='mae', optimizer='adam')\\n# fit network\\nhistory = model.fit(train_X, train_y, epochs=50, batch_size=72, validation_data=(test_X, test_y), verbose=2, shuffle=False)\\n# plot history\\nplt.plot(history.history['loss'], label='train')\\nplt.plot(history.history['val_loss'], label='test')\\nplt.legend()\\nplt.show()\\n\""
      ]
     },
     "execution_count": 106,
     "metadata": {},
     "output_type": "execute_result"
    }
   ],
   "source": [
    "# design network\n",
    "model = Sequential()\n",
    "model.add(LSTM(500, input_shape=(train_X.shape[1], train_X.shape[2])))\n",
    "model.add(Dense(1))\n",
    "model.compile(loss='mae', optimizer='adam')\n",
    "# fit network\n",
    "history = model.fit(train_X, train_y, epochs=50, batch_size=144, validation_data=(test_X, test_y), verbose=2, shuffle=False)#False\n",
    "# plot history\n",
    "plt.plot(history.history['loss'], label='train')\n",
    "plt.plot(history.history['val_loss'], label='test')\n",
    "plt.legend()\n",
    "plt.show()\n",
    "'''\n",
    "# design network\n",
    "model = Sequential()\n",
    "model.add(LSTM(100, input_shape=(train_X.shape[1], train_X.shape[2])))\n",
    "model.add(Dense(1))\n",
    "model.compile(loss='mae', optimizer='adam')\n",
    "# fit network\n",
    "history = model.fit(train_X, train_y, epochs=50, batch_size=72, validation_data=(test_X, test_y), verbose=2, shuffle=False)\n",
    "# plot history\n",
    "plt.plot(history.history['loss'], label='train')\n",
    "plt.plot(history.history['val_loss'], label='test')\n",
    "plt.legend()\n",
    "plt.show()\n",
    "'''"
   ]
  },
  {
   "cell_type": "code",
   "execution_count": 107,
   "metadata": {},
   "outputs": [],
   "source": [
    "# make a prediction\n",
    "yhat = model.predict(test_X)"
   ]
  },
  {
   "cell_type": "code",
   "execution_count": 49,
   "metadata": {},
   "outputs": [
    {
     "name": "stdout",
     "output_type": "stream",
     "text": [
      "Test RMSE: 0.218\n"
     ]
    },
    {
     "data": {
      "image/png": "[encoded data removed]",
      "text/plain": [
       "<Figure size 1440x216 with 1 Axes>"
      ]
     },
     "metadata": {
      "needs_background": "light"
     },
     "output_type": "display_data"
    }
   ],
   "source": [
    "rmse = math.sqrt(mean_squared_error(yhat, test_y))\n",
    "print('Test RMSE: %.3f' % rmse)\n",
    "plt.figure(figsize=(20, 3))\n",
    "plt.plot(yhat)\n",
    "plt.plot(test_y)\n",
    "plt.show()"
   ]
  },
  {
   "cell_type": "code",
   "execution_count": 57,
   "metadata": {},
   "outputs": [
    {
     "name": "stdout",
     "output_type": "stream",
     "text": [
      "Test RMSE: 0.492\n"
     ]
    },
    {
     "data": {
      "image/png": "[encoded data removed]",
      "text/plain": [
       "<Figure size 1440x216 with 1 Axes>"
      ]
     },
     "metadata": {
      "needs_background": "light"
     },
     "output_type": "display_data"
    }
   ],
   "source": [
    "# make a prediction\n",
    "yhat = model.predict(test_X)\n",
    "rmse = math.sqrt(mean_squared_error(yhat, test_y))\n",
    "print('Test RMSE: %.3f' % rmse)\n",
    "plt.figure(figsize=(20, 3))\n",
    "plt.plot(yhat)\n",
    "plt.plot(test_y)\n",
    "plt.show()"
   ]
  },
  {
   "cell_type": "code",
   "execution_count": 53,
   "metadata": {},
   "outputs": [],
   "source": [
    "yhat[yhat>0.7] = 1\n",
    "yhat[(yhat>0.4) & (yhat<0.7) ] = 0.5\n",
    "yhat[yhat<0.5] = 0"
   ]
  },
  {
   "cell_type": "code",
   "execution_count": 54,
   "metadata": {},
   "outputs": [
    {
     "name": "stdout",
     "output_type": "stream",
     "text": [
      "Test RMSE: 0.241\n"
     ]
    },
    {
     "data": {
      "image/png": "[encoded data removed]",
      "text/plain": [
       "<Figure size 1440x216 with 1 Axes>"
      ]
     },
     "metadata": {
      "needs_background": "light"
     },
     "output_type": "display_data"
    }
   ],
   "source": [
    "rmse = math.sqrt(mean_squared_error(yhat, test_y))\n",
    "print('Test RMSE: %.3f' % rmse)\n",
    "plt.figure(figsize=(20, 3))\n",
    "plt.plot(yhat)\n",
    "plt.plot(test_y)\n",
    "plt.show()"
   ]
  },
  {
   "cell_type": "code",
   "execution_count": 173,
   "metadata": {},
   "outputs": [],
   "source": [
    "test = values[n_train_hours:, :]"
   ]
  },
  {
   "cell_type": "code",
   "execution_count": 174,
   "metadata": {},
   "outputs": [
    {
     "data": {
      "text/plain": [
       "0      1.0\n",
       "1     -1.0\n",
       "2     -1.0\n",
       "3     -1.0\n",
       "4     -1.0\n",
       "      ... \n",
       "146   -1.0\n",
       "147   -1.0\n",
       "148   -1.0\n",
       "149   -1.0\n",
       "150    1.0\n",
       "Name: 方向, Length: 151, dtype: float64"
      ]
     },
     "execution_count": 174,
     "metadata": {},
     "output_type": "execute_result"
    }
   ],
   "source": [
    "df_drop['方向'][n_train_hours:].reset_index(drop=True)"
   ]
  },
  {
   "cell_type": "code",
   "execution_count": 175,
   "metadata": {},
   "outputs": [],
   "source": [
    "yhat_p = pd.concat([pd.DataFrame(yhat,columns=['yhat']),df_drop['方向'][n_train_hours:].reset_index(drop=True)],axis= 1)"
   ]
  },
  {
   "cell_type": "code",
   "execution_count": 178,
   "metadata": {},
   "outputs": [
    {
     "name": "stderr",
     "output_type": "stream",
     "text": [
      "C:\\Users\\DodoLu\\AppData\\Local\\Temp\\ipykernel_17776\\3616949344.py:2: SettingWithCopyWarning: \n",
      "A value is trying to be set on a copy of a slice from a DataFrame\n",
      "\n",
      "See the caveats in the documentation: https://pandas.pydata.org/pandas-docs/stable/user_guide/indexing.html#returning-a-view-versus-a-copy\n",
      "  yhat_p['yp'][(yhat_p['yhat']>0.5)&(yhat_p['方向'] == -1)]=0.5\n"
     ]
    }
   ],
   "source": [
    "yhat_p['yp'] = 0\n",
    "yhat_p['yp'][(yhat_p['yhat']>0.5)&(yhat_p['方向'] == -1)]=0.5\n",
    "yhat_p['yp'][(yhat_p['yhat']>0.5)&(yhat_p['方向'] == 1)]=1"
   ]
  },
  {
   "cell_type": "code",
   "execution_count": 179,
   "metadata": {},
   "outputs": [
    {
     "name": "stdout",
     "output_type": "stream",
     "text": [
      "Test RMSE: 0.271\n"
     ]
    },
    {
     "data": {
      "image/png": "[encoded data removed]",
      "text/plain": [
       "<Figure size 1440x216 with 1 Axes>"
      ]
     },
     "metadata": {
      "needs_background": "light"
     },
     "output_type": "display_data"
    }
   ],
   "source": [
    "rmse = math.sqrt(mean_squared_error(yhat, test_y))\n",
    "print('Test RMSE: %.3f' % rmse)\n",
    "plt.figure(figsize=(20, 3))\n",
    "plt.plot(yhat_p['yp'])\n",
    "plt.plot(test_y)\n",
    "plt.show()"
   ]
  },
  {
   "cell_type": "code",
   "execution_count": null,
   "metadata": {},
   "outputs": [],
   "source": []
  },
  {
   "cell_type": "code",
   "execution_count": 96,
   "metadata": {},
   "outputs": [],
   "source": [
    "test = np.reshape(test_X,(217, 25))"
   ]
  },
  {
   "cell_type": "code",
   "execution_count": 98,
   "metadata": {},
   "outputs": [],
   "source": [
    "test = pd.DataFrame(test)"
   ]
  },
  {
   "cell_type": "code",
   "execution_count": 99,
   "metadata": {},
   "outputs": [
    {
     "data": {
      "text/html": [
       "<div>\n",
       "<style scoped>\n",
       "    .dataframe tbody tr th:only-of-type {\n",
       "        vertical-align: middle;\n",
       "    }\n",
       "\n",
       "    .dataframe tbody tr th {\n",
       "        vertical-align: top;\n",
       "    }\n",
       "\n",
       "    .dataframe thead th {\n",
       "        text-align: right;\n",
       "    }\n",
       "</style>\n",
       "<table border=\"1\" class=\"dataframe\">\n",
       "  <thead>\n",
       "    <tr style=\"text-align: right;\">\n",
       "      <th></th>\n",
       "      <th>0</th>\n",
       "      <th>1</th>\n",
       "      <th>2</th>\n",
       "      <th>3</th>\n",
       "      <th>4</th>\n",
       "      <th>5</th>\n",
       "      <th>6</th>\n",
       "      <th>7</th>\n",
       "      <th>8</th>\n",
       "      <th>9</th>\n",
       "      <th>...</th>\n",
       "      <th>15</th>\n",
       "      <th>16</th>\n",
       "      <th>17</th>\n",
       "      <th>18</th>\n",
       "      <th>19</th>\n",
       "      <th>20</th>\n",
       "      <th>21</th>\n",
       "      <th>22</th>\n",
       "      <th>23</th>\n",
       "      <th>24</th>\n",
       "    </tr>\n",
       "  </thead>\n",
       "  <tbody>\n",
       "    <tr>\n",
       "      <th>0</th>\n",
       "      <td>0.105040</td>\n",
       "      <td>0.101684</td>\n",
       "      <td>0.108340</td>\n",
       "      <td>0.000152</td>\n",
       "      <td>0.107723</td>\n",
       "      <td>0.107479</td>\n",
       "      <td>0.001483</td>\n",
       "      <td>0.000191</td>\n",
       "      <td>0.003613</td>\n",
       "      <td>0.001917</td>\n",
       "      <td>...</td>\n",
       "      <td>0.000976</td>\n",
       "      <td>0.001440</td>\n",
       "      <td>0.002546</td>\n",
       "      <td>0.109962</td>\n",
       "      <td>0.0</td>\n",
       "      <td>0.0</td>\n",
       "      <td>0.000000</td>\n",
       "      <td>0.109846</td>\n",
       "      <td>0.217500</td>\n",
       "      <td>0.001339</td>\n",
       "    </tr>\n",
       "    <tr>\n",
       "      <th>1</th>\n",
       "      <td>0.003155</td>\n",
       "      <td>0.002282</td>\n",
       "      <td>0.108160</td>\n",
       "      <td>0.000901</td>\n",
       "      <td>0.000000</td>\n",
       "      <td>0.001978</td>\n",
       "      <td>0.001777</td>\n",
       "      <td>0.000870</td>\n",
       "      <td>0.001838</td>\n",
       "      <td>0.002329</td>\n",
       "      <td>...</td>\n",
       "      <td>0.094046</td>\n",
       "      <td>0.104753</td>\n",
       "      <td>0.001932</td>\n",
       "      <td>0.104343</td>\n",
       "      <td>0.0</td>\n",
       "      <td>0.0</td>\n",
       "      <td>0.000000</td>\n",
       "      <td>0.001928</td>\n",
       "      <td>0.001931</td>\n",
       "      <td>0.002760</td>\n",
       "    </tr>\n",
       "    <tr>\n",
       "      <th>2</th>\n",
       "      <td>0.101574</td>\n",
       "      <td>0.099189</td>\n",
       "      <td>0.149905</td>\n",
       "      <td>0.052183</td>\n",
       "      <td>0.000000</td>\n",
       "      <td>0.104130</td>\n",
       "      <td>0.101891</td>\n",
       "      <td>0.046872</td>\n",
       "      <td>0.104098</td>\n",
       "      <td>0.103531</td>\n",
       "      <td>...</td>\n",
       "      <td>0.095177</td>\n",
       "      <td>0.103443</td>\n",
       "      <td>0.103848</td>\n",
       "      <td>0.146743</td>\n",
       "      <td>0.0</td>\n",
       "      <td>0.0</td>\n",
       "      <td>0.187586</td>\n",
       "      <td>0.150501</td>\n",
       "      <td>0.103607</td>\n",
       "      <td>0.104212</td>\n",
       "    </tr>\n",
       "    <tr>\n",
       "      <th>3</th>\n",
       "      <td>0.106206</td>\n",
       "      <td>0.001220</td>\n",
       "      <td>0.001105</td>\n",
       "      <td>0.052902</td>\n",
       "      <td>0.000000</td>\n",
       "      <td>0.001347</td>\n",
       "      <td>0.000710</td>\n",
       "      <td>0.000663</td>\n",
       "      <td>0.001152</td>\n",
       "      <td>0.106160</td>\n",
       "      <td>...</td>\n",
       "      <td>0.001789</td>\n",
       "      <td>0.001507</td>\n",
       "      <td>0.000628</td>\n",
       "      <td>0.001993</td>\n",
       "      <td>0.0</td>\n",
       "      <td>0.0</td>\n",
       "      <td>0.193282</td>\n",
       "      <td>0.108804</td>\n",
       "      <td>0.000756</td>\n",
       "      <td>0.000980</td>\n",
       "    </tr>\n",
       "    <tr>\n",
       "      <th>4</th>\n",
       "      <td>0.105796</td>\n",
       "      <td>0.102778</td>\n",
       "      <td>0.108199</td>\n",
       "      <td>0.001976</td>\n",
       "      <td>0.000000</td>\n",
       "      <td>0.001576</td>\n",
       "      <td>0.001161</td>\n",
       "      <td>0.046243</td>\n",
       "      <td>0.001261</td>\n",
       "      <td>0.001362</td>\n",
       "      <td>...</td>\n",
       "      <td>0.000958</td>\n",
       "      <td>0.001154</td>\n",
       "      <td>0.001357</td>\n",
       "      <td>0.000753</td>\n",
       "      <td>0.0</td>\n",
       "      <td>0.0</td>\n",
       "      <td>0.193025</td>\n",
       "      <td>0.109076</td>\n",
       "      <td>0.109478</td>\n",
       "      <td>0.001593</td>\n",
       "    </tr>\n",
       "    <tr>\n",
       "      <th>...</th>\n",
       "      <td>...</td>\n",
       "      <td>...</td>\n",
       "      <td>...</td>\n",
       "      <td>...</td>\n",
       "      <td>...</td>\n",
       "      <td>...</td>\n",
       "      <td>...</td>\n",
       "      <td>...</td>\n",
       "      <td>...</td>\n",
       "      <td>...</td>\n",
       "      <td>...</td>\n",
       "      <td>...</td>\n",
       "      <td>...</td>\n",
       "      <td>...</td>\n",
       "      <td>...</td>\n",
       "      <td>...</td>\n",
       "      <td>...</td>\n",
       "      <td>...</td>\n",
       "      <td>...</td>\n",
       "      <td>...</td>\n",
       "      <td>...</td>\n",
       "    </tr>\n",
       "    <tr>\n",
       "      <th>212</th>\n",
       "      <td>0.109031</td>\n",
       "      <td>0.106200</td>\n",
       "      <td>0.158673</td>\n",
       "      <td>0.176353</td>\n",
       "      <td>0.179741</td>\n",
       "      <td>0.156811</td>\n",
       "      <td>0.155160</td>\n",
       "      <td>0.050143</td>\n",
       "      <td>0.453833</td>\n",
       "      <td>0.155246</td>\n",
       "      <td>...</td>\n",
       "      <td>0.143319</td>\n",
       "      <td>0.155083</td>\n",
       "      <td>0.346072</td>\n",
       "      <td>0.156862</td>\n",
       "      <td>0.0</td>\n",
       "      <td>0.0</td>\n",
       "      <td>0.000000</td>\n",
       "      <td>0.000000</td>\n",
       "      <td>0.000000</td>\n",
       "      <td>0.000000</td>\n",
       "    </tr>\n",
       "    <tr>\n",
       "      <th>213</th>\n",
       "      <td>0.339663</td>\n",
       "      <td>0.332432</td>\n",
       "      <td>0.395496</td>\n",
       "      <td>0.198834</td>\n",
       "      <td>0.112309</td>\n",
       "      <td>0.331072</td>\n",
       "      <td>0.324139</td>\n",
       "      <td>0.148943</td>\n",
       "      <td>0.331057</td>\n",
       "      <td>0.345895</td>\n",
       "      <td>...</td>\n",
       "      <td>0.502336</td>\n",
       "      <td>0.346020</td>\n",
       "      <td>0.466643</td>\n",
       "      <td>0.329116</td>\n",
       "      <td>0.0</td>\n",
       "      <td>0.0</td>\n",
       "      <td>0.000000</td>\n",
       "      <td>0.000000</td>\n",
       "      <td>0.000000</td>\n",
       "      <td>0.000000</td>\n",
       "    </tr>\n",
       "    <tr>\n",
       "      <th>214</th>\n",
       "      <td>0.111988</td>\n",
       "      <td>0.235823</td>\n",
       "      <td>0.453851</td>\n",
       "      <td>0.284559</td>\n",
       "      <td>0.080730</td>\n",
       "      <td>0.157005</td>\n",
       "      <td>0.151967</td>\n",
       "      <td>0.051591</td>\n",
       "      <td>0.672876</td>\n",
       "      <td>0.669454</td>\n",
       "      <td>...</td>\n",
       "      <td>0.224345</td>\n",
       "      <td>0.247583</td>\n",
       "      <td>0.160942</td>\n",
       "      <td>0.247611</td>\n",
       "      <td>0.0</td>\n",
       "      <td>0.0</td>\n",
       "      <td>0.000000</td>\n",
       "      <td>0.000000</td>\n",
       "      <td>0.000000</td>\n",
       "      <td>0.000000</td>\n",
       "    </tr>\n",
       "    <tr>\n",
       "      <th>215</th>\n",
       "      <td>0.536856</td>\n",
       "      <td>0.434100</td>\n",
       "      <td>0.491949</td>\n",
       "      <td>0.276520</td>\n",
       "      <td>0.227613</td>\n",
       "      <td>0.441406</td>\n",
       "      <td>0.432164</td>\n",
       "      <td>0.198554</td>\n",
       "      <td>0.441344</td>\n",
       "      <td>0.438739</td>\n",
       "      <td>...</td>\n",
       "      <td>0.417412</td>\n",
       "      <td>0.491698</td>\n",
       "      <td>0.493127</td>\n",
       "      <td>0.452094</td>\n",
       "      <td>0.0</td>\n",
       "      <td>0.0</td>\n",
       "      <td>0.000000</td>\n",
       "      <td>0.000000</td>\n",
       "      <td>0.000000</td>\n",
       "      <td>0.000000</td>\n",
       "    </tr>\n",
       "    <tr>\n",
       "      <th>216</th>\n",
       "      <td>0.609480</td>\n",
       "      <td>0.472783</td>\n",
       "      <td>0.495138</td>\n",
       "      <td>0.402444</td>\n",
       "      <td>0.202005</td>\n",
       "      <td>0.457165</td>\n",
       "      <td>0.448895</td>\n",
       "      <td>0.199995</td>\n",
       "      <td>0.494412</td>\n",
       "      <td>0.441925</td>\n",
       "      <td>...</td>\n",
       "      <td>0.419571</td>\n",
       "      <td>0.456054</td>\n",
       "      <td>0.625646</td>\n",
       "      <td>0.454852</td>\n",
       "      <td>0.0</td>\n",
       "      <td>0.0</td>\n",
       "      <td>0.000000</td>\n",
       "      <td>0.000000</td>\n",
       "      <td>0.000000</td>\n",
       "      <td>0.000000</td>\n",
       "    </tr>\n",
       "  </tbody>\n",
       "</table>\n",
       "<p>217 rows × 25 columns</p>\n",
       "</div>"
      ],
      "text/plain": [
       "           0         1         2         3         4         5         6   \\\n",
       "0    0.105040  0.101684  0.108340  0.000152  0.107723  0.107479  0.001483   \n",
       "1    0.003155  0.002282  0.108160  0.000901  0.000000  0.001978  0.001777   \n",
       "2    0.101574  0.099189  0.149905  0.052183  0.000000  0.104130  0.101891   \n",
       "3    0.106206  0.001220  0.001105  0.052902  0.000000  0.001347  0.000710   \n",
       "4    0.105796  0.102778  0.108199  0.001976  0.000000  0.001576  0.001161   \n",
       "..        ...       ...       ...       ...       ...       ...       ...   \n",
       "212  0.109031  0.106200  0.158673  0.176353  0.179741  0.156811  0.155160   \n",
       "213  0.339663  0.332432  0.395496  0.198834  0.112309  0.331072  0.324139   \n",
       "214  0.111988  0.235823  0.453851  0.284559  0.080730  0.157005  0.151967   \n",
       "215  0.536856  0.434100  0.491949  0.276520  0.227613  0.441406  0.432164   \n",
       "216  0.609480  0.472783  0.495138  0.402444  0.202005  0.457165  0.448895   \n",
       "\n",
       "           7         8         9   ...        15        16        17  \\\n",
       "0    0.000191  0.003613  0.001917  ...  0.000976  0.001440  0.002546   \n",
       "1    0.000870  0.001838  0.002329  ...  0.094046  0.104753  0.001932   \n",
       "2    0.046872  0.104098  0.103531  ...  0.095177  0.103443  0.103848   \n",
       "3    0.000663  0.001152  0.106160  ...  0.001789  0.001507  0.000628   \n",
       "4    0.046243  0.001261  0.001362  ...  0.000958  0.001154  0.001357   \n",
       "..        ...       ...       ...  ...       ...       ...       ...   \n",
       "212  0.050143  0.453833  0.155246  ...  0.143319  0.155083  0.346072   \n",
       "213  0.148943  0.331057  0.345895  ...  0.502336  0.346020  0.466643   \n",
       "214  0.051591  0.672876  0.669454  ...  0.224345  0.247583  0.160942   \n",
       "215  0.198554  0.441344  0.438739  ...  0.417412  0.491698  0.493127   \n",
       "216  0.199995  0.494412  0.441925  ...  0.419571  0.456054  0.625646   \n",
       "\n",
       "           18   19   20        21        22        23        24  \n",
       "0    0.109962  0.0  0.0  0.000000  0.109846  0.217500  0.001339  \n",
       "1    0.104343  0.0  0.0  0.000000  0.001928  0.001931  0.002760  \n",
       "2    0.146743  0.0  0.0  0.187586  0.150501  0.103607  0.104212  \n",
       "3    0.001993  0.0  0.0  0.193282  0.108804  0.000756  0.000980  \n",
       "4    0.000753  0.0  0.0  0.193025  0.109076  0.109478  0.001593  \n",
       "..        ...  ...  ...       ...       ...       ...       ...  \n",
       "212  0.156862  0.0  0.0  0.000000  0.000000  0.000000  0.000000  \n",
       "213  0.329116  0.0  0.0  0.000000  0.000000  0.000000  0.000000  \n",
       "214  0.247611  0.0  0.0  0.000000  0.000000  0.000000  0.000000  \n",
       "215  0.452094  0.0  0.0  0.000000  0.000000  0.000000  0.000000  \n",
       "216  0.454852  0.0  0.0  0.000000  0.000000  0.000000  0.000000  \n",
       "\n",
       "[217 rows x 25 columns]"
      ]
     },
     "execution_count": 99,
     "metadata": {},
     "output_type": "execute_result"
    }
   ],
   "source": [
    "test"
   ]
  },
  {
   "cell_type": "code",
   "execution_count": 100,
   "metadata": {},
   "outputs": [],
   "source": [
    "yhat = model.predict(train_X)"
   ]
  },
  {
   "cell_type": "code",
   "execution_count": 101,
   "metadata": {},
   "outputs": [
    {
     "name": "stdout",
     "output_type": "stream",
     "text": [
      "Test RMSE: 0.359\n"
     ]
    },
    {
     "data": {
      "image/png": "[encoded data removed]",
      "text/plain": [
       "<Figure size 1440x216 with 1 Axes>"
      ]
     },
     "metadata": {
      "needs_background": "light"
     },
     "output_type": "display_data"
    }
   ],
   "source": [
    "rmse = math.sqrt(mean_squared_error(yhat, train_y))\n",
    "print('Test RMSE: %.3f' % rmse)\n",
    "plt.figure(figsize=(20, 3))\n",
    "plt.plot(yhat)\n",
    "plt.plot(train_y)\n",
    "plt.show()"
   ]
  },
  {
   "cell_type": "markdown",
   "metadata": {},
   "source": [
    "範例"
   ]
  },
  {
   "cell_type": "code",
   "execution_count": null,
   "metadata": {},
   "outputs": [],
   "source": [
    "# integer encode direction\n",
    "encoder = LabelEncoder()\n",
    "values[:,4] = encoder.fit_transform(values[:,4])\n",
    "# ensure all data is float\n",
    "values = values.astype('float32')\n",
    "# normalize features\n",
    "scaler = MinMaxScaler(feature_range=(0, 1))\n",
    "scaled = scaler.fit_transform(values)\n",
    "# frame as supervised learning\n",
    "reframed = series_to_supervised(scaled, 1, 1)\n",
    "# drop columns we don't want to predict\n",
    "reframed.drop(reframed.columns[[9,10,11,12,13,14,15]], axis=1, inplace=True)\n",
    "print(reframed.head())"
   ]
  },
  {
   "cell_type": "code",
   "execution_count": 49,
   "metadata": {},
   "outputs": [
    {
     "name": "stdout",
     "output_type": "stream",
     "text": [
      "(17, 1, 74) (17,) (27, 1, 74) (27,)\n"
     ]
    }
   ],
   "source": [
    "# split into train and test sets\n",
    "values = reframed.values\n",
    "n_train_hours = int(len(reframed)*0.4)\n",
    "train = values[:n_train_hours, :]\n",
    "test = values[n_train_hours:, :]\n",
    "# split into input and outputs\n",
    "train_X, train_y = train[:, :-1], train[:, -1]\n",
    "test_X, test_y = test[:, :-1], test[:, -1]\n",
    "# reshape input to be 3D [samples, timesteps, features]\n",
    "train_X = train_X.reshape((train_X.shape[0], 1, train_X.shape[1]))\n",
    "test_X = test_X.reshape((test_X.shape[0], 1, test_X.shape[1]))\n",
    "print(train_X.shape, train_y.shape, test_X.shape, test_y.shape)"
   ]
  },
  {
   "cell_type": "markdown",
   "metadata": {},
   "source": [
    "範例"
   ]
  },
  {
   "cell_type": "code",
   "execution_count": 37,
   "metadata": {},
   "outputs": [
    {
     "name": "stdout",
     "output_type": "stream",
     "text": [
      "(8760, 1, 8) (8760,) (32996, 1, 8) (32996,)\n"
     ]
    }
   ],
   "source": [
    "# split into train and test sets\n",
    "values = reframed.values\n",
    "n_train_hours = 365 * 24\n",
    "train = values[:n_train_hours, :]\n",
    "test = values[n_train_hours:, :]\n",
    "# split into input and outputs\n",
    "train_X, train_y = train[:, :-1], train[:, -1]\n",
    "test_X, test_y = test[:, :-1], test[:, -1]\n",
    "# reshape input to be 3D [samples, timesteps, features]\n",
    "train_X = train_X.reshape((train_X.shape[0], 1, train_X.shape[1]))\n",
    "test_X = test_X.reshape((test_X.shape[0], 1, test_X.shape[1]))\n",
    "print(train_X.shape, train_y.shape, test_X.shape, test_y.shape)"
   ]
  },
  {
   "cell_type": "code",
   "execution_count": 27,
   "metadata": {},
   "outputs": [
    {
     "name": "stdout",
     "output_type": "stream",
     "text": [
      "Epoch 1/50\n",
      "1/1 - 3s - loss: 0.0708 - val_loss: 0.6379 - 3s/epoch - 3s/step\n",
      "Epoch 2/50\n",
      "1/1 - 0s - loss: 0.0326 - val_loss: 0.6430 - 34ms/epoch - 34ms/step\n",
      "Epoch 3/50\n",
      "1/1 - 0s - loss: 0.0370 - val_loss: 0.6202 - 36ms/epoch - 36ms/step\n",
      "Epoch 4/50\n",
      "1/1 - 0s - loss: 0.0209 - val_loss: 0.6111 - 41ms/epoch - 41ms/step\n",
      "Epoch 5/50\n",
      "1/1 - 0s - loss: 0.0258 - val_loss: 0.6154 - 35ms/epoch - 35ms/step\n",
      "Epoch 6/50\n",
      "1/1 - 0s - loss: 0.0178 - val_loss: 0.6306 - 41ms/epoch - 41ms/step\n",
      "Epoch 7/50\n",
      "1/1 - 0s - loss: 0.0262 - val_loss: 0.6230 - 38ms/epoch - 38ms/step\n",
      "Epoch 8/50\n",
      "1/1 - 0s - loss: 0.0209 - val_loss: 0.6001 - 38ms/epoch - 38ms/step\n",
      "Epoch 9/50\n",
      "1/1 - 0s - loss: 0.0158 - val_loss: 0.5914 - 35ms/epoch - 35ms/step\n",
      "Epoch 10/50\n",
      "1/1 - 0s - loss: 0.0193 - val_loss: 0.5963 - 32ms/epoch - 32ms/step\n",
      "Epoch 11/50\n",
      "1/1 - 0s - loss: 0.0113 - val_loss: 0.6066 - 33ms/epoch - 33ms/step\n",
      "Epoch 12/50\n",
      "1/1 - 0s - loss: 0.0156 - val_loss: 0.6035 - 35ms/epoch - 35ms/step\n",
      "Epoch 13/50\n",
      "1/1 - 0s - loss: 0.0158 - val_loss: 0.5896 - 34ms/epoch - 34ms/step\n",
      "Epoch 14/50\n",
      "1/1 - 0s - loss: 0.0099 - val_loss: 0.5771 - 35ms/epoch - 35ms/step\n",
      "Epoch 15/50\n",
      "1/1 - 0s - loss: 0.0147 - val_loss: 0.5751 - 34ms/epoch - 34ms/step\n",
      "Epoch 16/50\n",
      "1/1 - 0s - loss: 0.0137 - val_loss: 0.5823 - 36ms/epoch - 36ms/step\n",
      "Epoch 17/50\n",
      "1/1 - 0s - loss: 0.0104 - val_loss: 0.5873 - 40ms/epoch - 40ms/step\n",
      "Epoch 18/50\n",
      "1/1 - 0s - loss: 0.0130 - val_loss: 0.5853 - 37ms/epoch - 37ms/step\n",
      "Epoch 19/50\n",
      "1/1 - 0s - loss: 0.0120 - val_loss: 0.5754 - 37ms/epoch - 37ms/step\n",
      "Epoch 20/50\n",
      "1/1 - 0s - loss: 0.0087 - val_loss: 0.5673 - 39ms/epoch - 39ms/step\n",
      "Epoch 21/50\n",
      "1/1 - 0s - loss: 0.0111 - val_loss: 0.5685 - 36ms/epoch - 36ms/step\n",
      "Epoch 22/50\n",
      "1/1 - 0s - loss: 0.0091 - val_loss: 0.5741 - 35ms/epoch - 35ms/step\n",
      "Epoch 23/50\n",
      "1/1 - 0s - loss: 0.0074 - val_loss: 0.5732 - 34ms/epoch - 34ms/step\n",
      "Epoch 24/50\n",
      "1/1 - 0s - loss: 0.0082 - val_loss: 0.5651 - 36ms/epoch - 36ms/step\n",
      "Epoch 25/50\n",
      "1/1 - 0s - loss: 0.0066 - val_loss: 0.5612 - 34ms/epoch - 34ms/step\n",
      "Epoch 26/50\n",
      "1/1 - 0s - loss: 0.0076 - val_loss: 0.5646 - 33ms/epoch - 33ms/step\n",
      "Epoch 27/50\n",
      "1/1 - 0s - loss: 0.0065 - val_loss: 0.5664 - 34ms/epoch - 34ms/step\n",
      "Epoch 28/50\n",
      "1/1 - 0s - loss: 0.0068 - val_loss: 0.5622 - 34ms/epoch - 34ms/step\n",
      "Epoch 29/50\n",
      "1/1 - 0s - loss: 0.0065 - val_loss: 0.5630 - 32ms/epoch - 32ms/step\n",
      "Epoch 30/50\n",
      "1/1 - 0s - loss: 0.0063 - val_loss: 0.5674 - 35ms/epoch - 35ms/step\n",
      "Epoch 31/50\n",
      "1/1 - 0s - loss: 0.0065 - val_loss: 0.5683 - 35ms/epoch - 35ms/step\n",
      "Epoch 32/50\n",
      "1/1 - 0s - loss: 0.0068 - val_loss: 0.5630 - 32ms/epoch - 32ms/step\n",
      "Epoch 33/50\n",
      "1/1 - 0s - loss: 0.0068 - val_loss: 0.5611 - 35ms/epoch - 35ms/step\n",
      "Epoch 34/50\n",
      "1/1 - 0s - loss: 0.0069 - val_loss: 0.5634 - 36ms/epoch - 36ms/step\n",
      "Epoch 35/50\n",
      "1/1 - 0s - loss: 0.0062 - val_loss: 0.5595 - 32ms/epoch - 32ms/step\n",
      "Epoch 36/50\n",
      "1/1 - 0s - loss: 0.0056 - val_loss: 0.5548 - 33ms/epoch - 33ms/step\n",
      "Epoch 37/50\n",
      "1/1 - 0s - loss: 0.0058 - val_loss: 0.5552 - 33ms/epoch - 33ms/step\n",
      "Epoch 38/50\n",
      "1/1 - 0s - loss: 0.0054 - val_loss: 0.5540 - 33ms/epoch - 33ms/step\n",
      "Epoch 39/50\n",
      "1/1 - 0s - loss: 0.0056 - val_loss: 0.5512 - 34ms/epoch - 34ms/step\n",
      "Epoch 40/50\n",
      "1/1 - 0s - loss: 0.0060 - val_loss: 0.5544 - 33ms/epoch - 33ms/step\n",
      "Epoch 41/50\n",
      "1/1 - 0s - loss: 0.0059 - val_loss: 0.5557 - 32ms/epoch - 32ms/step\n",
      "Epoch 42/50\n",
      "1/1 - 0s - loss: 0.0060 - val_loss: 0.5518 - 33ms/epoch - 33ms/step\n",
      "Epoch 43/50\n",
      "1/1 - 0s - loss: 0.0063 - val_loss: 0.5553 - 35ms/epoch - 35ms/step\n",
      "Epoch 44/50\n",
      "1/1 - 0s - loss: 0.0053 - val_loss: 0.5578 - 33ms/epoch - 33ms/step\n",
      "Epoch 45/50\n",
      "1/1 - 0s - loss: 0.0054 - val_loss: 0.5549 - 33ms/epoch - 33ms/step\n",
      "Epoch 46/50\n",
      "1/1 - 0s - loss: 0.0052 - val_loss: 0.5568 - 33ms/epoch - 33ms/step\n",
      "Epoch 47/50\n",
      "1/1 - 0s - loss: 0.0048 - val_loss: 0.5550 - 34ms/epoch - 34ms/step\n",
      "Epoch 48/50\n",
      "1/1 - 0s - loss: 0.0051 - val_loss: 0.5601 - 36ms/epoch - 36ms/step\n",
      "Epoch 49/50\n",
      "1/1 - 0s - loss: 0.0081 - val_loss: 0.5519 - 32ms/epoch - 32ms/step\n",
      "Epoch 50/50\n",
      "1/1 - 0s - loss: 0.0066 - val_loss: 0.5511 - 34ms/epoch - 34ms/step\n"
     ]
    },
    {
     "data": {
      "image/png": "[encoded data removed]",
      "text/plain": [
       "<Figure size 432x288 with 1 Axes>"
      ]
     },
     "metadata": {
      "needs_background": "light"
     },
     "output_type": "display_data"
    },
    {
     "name": "stdout",
     "output_type": "stream",
     "text": [
      "Epoch 1/50\n",
      "1/1 - 3s - loss: 0.0521 - val_loss: 0.5415 - 3s/epoch - 3s/step\n",
      "Epoch 2/50\n",
      "1/1 - 0s - loss: 0.0849 - val_loss: 0.5245 - 64ms/epoch - 64ms/step\n",
      "Epoch 3/50\n",
      "1/1 - 0s - loss: 0.0611 - val_loss: 0.4955 - 40ms/epoch - 40ms/step\n",
      "Epoch 4/50\n",
      "1/1 - 0s - loss: 0.0384 - val_loss: 0.4842 - 35ms/epoch - 35ms/step\n",
      "Epoch 5/50\n",
      "1/1 - 0s - loss: 0.0533 - val_loss: 0.4990 - 37ms/epoch - 37ms/step\n",
      "Epoch 6/50\n",
      "1/1 - 0s - loss: 0.0372 - val_loss: 0.5233 - 39ms/epoch - 39ms/step\n",
      "Epoch 7/50\n",
      "1/1 - 0s - loss: 0.0340 - val_loss: 0.5383 - 35ms/epoch - 35ms/step\n",
      "Epoch 8/50\n",
      "1/1 - 0s - loss: 0.0403 - val_loss: 0.5365 - 33ms/epoch - 33ms/step\n",
      "Epoch 9/50\n",
      "1/1 - 0s - loss: 0.0342 - val_loss: 0.5239 - 36ms/epoch - 36ms/step\n",
      "Epoch 10/50\n",
      "1/1 - 0s - loss: 0.0251 - val_loss: 0.5088 - 36ms/epoch - 36ms/step\n",
      "Epoch 11/50\n",
      "1/1 - 0s - loss: 0.0315 - val_loss: 0.5078 - 33ms/epoch - 33ms/step\n",
      "Epoch 12/50\n",
      "1/1 - 0s - loss: 0.0352 - val_loss: 0.5178 - 35ms/epoch - 35ms/step\n",
      "Epoch 13/50\n",
      "1/1 - 0s - loss: 0.0267 - val_loss: 0.5345 - 35ms/epoch - 35ms/step\n",
      "Epoch 14/50\n",
      "1/1 - 0s - loss: 0.0225 - val_loss: 0.5489 - 37ms/epoch - 37ms/step\n",
      "Epoch 15/50\n",
      "1/1 - 0s - loss: 0.0264 - val_loss: 0.5514 - 37ms/epoch - 37ms/step\n",
      "Epoch 16/50\n",
      "1/1 - 0s - loss: 0.0276 - val_loss: 0.5441 - 33ms/epoch - 33ms/step\n",
      "Epoch 17/50\n",
      "1/1 - 0s - loss: 0.0230 - val_loss: 0.5283 - 33ms/epoch - 33ms/step\n",
      "Epoch 18/50\n",
      "1/1 - 0s - loss: 0.0178 - val_loss: 0.5178 - 34ms/epoch - 34ms/step\n",
      "Epoch 19/50\n",
      "1/1 - 0s - loss: 0.0227 - val_loss: 0.5182 - 35ms/epoch - 35ms/step\n",
      "Epoch 20/50\n",
      "1/1 - 0s - loss: 0.0206 - val_loss: 0.5279 - 32ms/epoch - 32ms/step\n",
      "Epoch 21/50\n",
      "1/1 - 0s - loss: 0.0161 - val_loss: 0.5323 - 35ms/epoch - 35ms/step\n",
      "Epoch 22/50\n",
      "1/1 - 0s - loss: 0.0173 - val_loss: 0.5288 - 33ms/epoch - 33ms/step\n",
      "Epoch 23/50\n",
      "1/1 - 0s - loss: 0.0165 - val_loss: 0.5189 - 34ms/epoch - 34ms/step\n",
      "Epoch 24/50\n",
      "1/1 - 0s - loss: 0.0132 - val_loss: 0.5077 - 34ms/epoch - 34ms/step\n",
      "Epoch 25/50\n",
      "1/1 - 0s - loss: 0.0153 - val_loss: 0.5067 - 34ms/epoch - 34ms/step\n",
      "Epoch 26/50\n",
      "1/1 - 0s - loss: 0.0128 - val_loss: 0.5142 - 35ms/epoch - 35ms/step\n",
      "Epoch 27/50\n",
      "1/1 - 0s - loss: 0.0146 - val_loss: 0.5122 - 33ms/epoch - 33ms/step\n",
      "Epoch 28/50\n",
      "1/1 - 0s - loss: 0.0165 - val_loss: 0.4992 - 34ms/epoch - 34ms/step\n",
      "Epoch 29/50\n",
      "1/1 - 0s - loss: 0.0111 - val_loss: 0.4856 - 34ms/epoch - 34ms/step\n",
      "Epoch 30/50\n",
      "1/1 - 0s - loss: 0.0166 - val_loss: 0.4810 - 33ms/epoch - 33ms/step\n",
      "Epoch 31/50\n",
      "1/1 - 0s - loss: 0.0164 - val_loss: 0.4859 - 32ms/epoch - 32ms/step\n",
      "Epoch 32/50\n",
      "1/1 - 0s - loss: 0.0102 - val_loss: 0.4887 - 34ms/epoch - 34ms/step\n",
      "Epoch 33/50\n",
      "1/1 - 0s - loss: 0.0139 - val_loss: 0.4833 - 34ms/epoch - 34ms/step\n",
      "Epoch 34/50\n",
      "1/1 - 0s - loss: 0.0122 - val_loss: 0.4724 - 33ms/epoch - 33ms/step\n",
      "Epoch 35/50\n",
      "1/1 - 0s - loss: 0.0078 - val_loss: 0.4635 - 34ms/epoch - 34ms/step\n",
      "Epoch 36/50\n",
      "1/1 - 0s - loss: 0.0128 - val_loss: 0.4643 - 33ms/epoch - 33ms/step\n",
      "Epoch 37/50\n",
      "1/1 - 0s - loss: 0.0073 - val_loss: 0.4729 - 34ms/epoch - 34ms/step\n",
      "Epoch 38/50\n",
      "1/1 - 0s - loss: 0.0143 - val_loss: 0.4704 - 31ms/epoch - 31ms/step\n",
      "Epoch 39/50\n",
      "1/1 - 0s - loss: 0.0144 - val_loss: 0.4582 - 35ms/epoch - 35ms/step\n",
      "Epoch 40/50\n",
      "1/1 - 0s - loss: 0.0061 - val_loss: 0.4490 - 33ms/epoch - 33ms/step\n",
      "Epoch 41/50\n",
      "1/1 - 0s - loss: 0.0115 - val_loss: 0.4499 - 34ms/epoch - 34ms/step\n",
      "Epoch 42/50\n",
      "1/1 - 0s - loss: 0.0078 - val_loss: 0.4566 - 34ms/epoch - 34ms/step\n",
      "Epoch 43/50\n",
      "1/1 - 0s - loss: 0.0098 - val_loss: 0.4557 - 34ms/epoch - 34ms/step\n",
      "Epoch 44/50\n",
      "1/1 - 0s - loss: 0.0112 - val_loss: 0.4463 - 33ms/epoch - 33ms/step\n",
      "Epoch 45/50\n",
      "1/1 - 0s - loss: 0.0058 - val_loss: 0.4366 - 33ms/epoch - 33ms/step\n",
      "Epoch 46/50\n",
      "1/1 - 0s - loss: 0.0115 - val_loss: 0.4375 - 33ms/epoch - 33ms/step\n",
      "Epoch 47/50\n",
      "1/1 - 0s - loss: 0.0085 - val_loss: 0.4451 - 35ms/epoch - 35ms/step\n",
      "Epoch 48/50\n",
      "1/1 - 0s - loss: 0.0080 - val_loss: 0.4468 - 34ms/epoch - 34ms/step\n",
      "Epoch 49/50\n",
      "1/1 - 0s - loss: 0.0103 - val_loss: 0.4404 - 33ms/epoch - 33ms/step\n",
      "Epoch 50/50\n",
      "1/1 - 0s - loss: 0.0065 - val_loss: 0.4344 - 34ms/epoch - 34ms/step\n"
     ]
    },
    {
     "data": {
      "image/png": "[encoded data removed]",
      "text/plain": [
       "<Figure size 432x288 with 1 Axes>"
      ]
     },
     "metadata": {
      "needs_background": "light"
     },
     "output_type": "display_data"
    }
   ],
   "source": [
    "# design network\n",
    "model = Sequential()\n",
    "model.add(LSTM(50, input_shape=(train_X.shape[1], train_X.shape[2])))\n",
    "model.add(Dense(1))\n",
    "model.compile(loss='mae', optimizer='adam')\n",
    "# fit network\n",
    "history = model.fit(train_X, train_y, epochs=50, batch_size=72, validation_data=(test_X, test_y), verbose=2, shuffle=False)\n",
    "# plot history\n",
    "plt.plot(history.history['loss'], label='train')\n",
    "plt.plot(history.history['val_loss'], label='test')\n",
    "plt.legend()\n",
    "plt.show()\n",
    "\n",
    "# design network\n",
    "model = Sequential()\n",
    "model.add(LSTM(50, input_shape=(train_X.shape[1], train_X.shape[2])))\n",
    "model.add(Dense(1))\n",
    "model.compile(loss='mae', optimizer='adam')\n",
    "# fit network\n",
    "history = model.fit(train_X, train_y, epochs=50, batch_size=72, validation_data=(test_X, test_y), verbose=2, shuffle=False)\n",
    "# plot history\n",
    "plt.plot(history.history['loss'], label='train')\n",
    "plt.plot(history.history['val_loss'], label='test')\n",
    "plt.legend()\n",
    "plt.show()"
   ]
  },
  {
   "cell_type": "code",
   "execution_count": 55,
   "metadata": {},
   "outputs": [],
   "source": [
    "yhat = model.predict(test_X)\n",
    "test_X = test_X.reshape((test_X.shape[0], test_X.shape[2]))"
   ]
  },
  {
   "cell_type": "code",
   "execution_count": 62,
   "metadata": {},
   "outputs": [
    {
     "ename": "ValueError",
     "evalue": "operands could not be broadcast together with shapes (27,74) (75,) (27,74) ",
     "output_type": "error",
     "traceback": [
      "\u001b[1;31m---------------------------------------------------------------------------\u001b[0m",
      "\u001b[1;31mValueError\u001b[0m                                Traceback (most recent call last)",
      "\u001b[1;32mc:\\Users\\DodoLu\\Desktop\\paper\\openpose\\python\\LSTM.ipynb Cell 13\u001b[0m in \u001b[0;36m<cell line: 1>\u001b[1;34m()\u001b[0m\n\u001b[1;32m----> <a href='vscode-notebook-cell:/c%3A/Users/DodoLu/Desktop/paper/openpose/python/LSTM.ipynb#Y121sZmlsZQ%3D%3D?line=0'>1</a>\u001b[0m inv_yhat \u001b[39m=\u001b[39m scaler\u001b[39m.\u001b[39;49minverse_transform(inv_yhat)\n",
      "File \u001b[1;32m~\\AppData\\Local\\Packages\\PythonSoftwareFoundation.Python.3.9_qbz5n2kfra8p0\\LocalCache\\local-packages\\Python39\\site-packages\\sklearn\\preprocessing\\_data.py:432\u001b[0m, in \u001b[0;36mMinMaxScaler.inverse_transform\u001b[1;34m(self, X)\u001b[0m\n\u001b[0;32m    427\u001b[0m check_is_fitted(\u001b[39mself\u001b[39m)\n\u001b[0;32m    429\u001b[0m X \u001b[39m=\u001b[39m check_array(X, copy\u001b[39m=\u001b[39m\u001b[39mself\u001b[39m\u001b[39m.\u001b[39mcopy, dtype\u001b[39m=\u001b[39mFLOAT_DTYPES,\n\u001b[0;32m    430\u001b[0m                 force_all_finite\u001b[39m=\u001b[39m\u001b[39m\"\u001b[39m\u001b[39mallow-nan\u001b[39m\u001b[39m\"\u001b[39m)\n\u001b[1;32m--> 432\u001b[0m X \u001b[39m-\u001b[39m\u001b[39m=\u001b[39m \u001b[39mself\u001b[39m\u001b[39m.\u001b[39mmin_\n\u001b[0;32m    433\u001b[0m X \u001b[39m/\u001b[39m\u001b[39m=\u001b[39m \u001b[39mself\u001b[39m\u001b[39m.\u001b[39mscale_\n\u001b[0;32m    434\u001b[0m \u001b[39mreturn\u001b[39;00m X\n",
      "\u001b[1;31mValueError\u001b[0m: operands could not be broadcast together with shapes (27,74) (75,) (27,74) "
     ]
    }
   ],
   "source": [
    "inv_yhat = scaler.inverse_transform(inv_yhat)"
   ]
  },
  {
   "cell_type": "code",
   "execution_count": 23,
   "metadata": {},
   "outputs": [
    {
     "ename": "ValueError",
     "evalue": "operands could not be broadcast together with shapes (27,74) (75,) (27,74) ",
     "output_type": "error",
     "traceback": [
      "\u001b[1;31m---------------------------------------------------------------------------\u001b[0m",
      "\u001b[1;31mValueError\u001b[0m                                Traceback (most recent call last)",
      "\u001b[1;32mc:\\Users\\DodoLu\\Desktop\\paper\\openpose\\python\\LSTM.ipynb Cell 12\u001b[0m in \u001b[0;36m<cell line: 6>\u001b[1;34m()\u001b[0m\n\u001b[0;32m      <a href='vscode-notebook-cell:/c%3A/Users/DodoLu/Desktop/paper/openpose/python/LSTM.ipynb#X15sZmlsZQ%3D%3D?line=3'>4</a>\u001b[0m \u001b[39m# invert scaling for forecast\u001b[39;00m\n\u001b[0;32m      <a href='vscode-notebook-cell:/c%3A/Users/DodoLu/Desktop/paper/openpose/python/LSTM.ipynb#X15sZmlsZQ%3D%3D?line=4'>5</a>\u001b[0m inv_yhat \u001b[39m=\u001b[39m concatenate((yhat, test_X[:, \u001b[39m1\u001b[39m:]), axis\u001b[39m=\u001b[39m\u001b[39m1\u001b[39m)\n\u001b[1;32m----> <a href='vscode-notebook-cell:/c%3A/Users/DodoLu/Desktop/paper/openpose/python/LSTM.ipynb#X15sZmlsZQ%3D%3D?line=5'>6</a>\u001b[0m inv_yhat \u001b[39m=\u001b[39m scaler\u001b[39m.\u001b[39;49minverse_transform(inv_yhat)\n\u001b[0;32m      <a href='vscode-notebook-cell:/c%3A/Users/DodoLu/Desktop/paper/openpose/python/LSTM.ipynb#X15sZmlsZQ%3D%3D?line=6'>7</a>\u001b[0m inv_yhat \u001b[39m=\u001b[39m inv_yhat[:,\u001b[39m0\u001b[39m]\n\u001b[0;32m      <a href='vscode-notebook-cell:/c%3A/Users/DodoLu/Desktop/paper/openpose/python/LSTM.ipynb#X15sZmlsZQ%3D%3D?line=7'>8</a>\u001b[0m \u001b[39m# invert scaling for actual\u001b[39;00m\n",
      "File \u001b[1;32m~\\AppData\\Local\\Packages\\PythonSoftwareFoundation.Python.3.9_qbz5n2kfra8p0\\LocalCache\\local-packages\\Python39\\site-packages\\sklearn\\preprocessing\\_data.py:432\u001b[0m, in \u001b[0;36mMinMaxScaler.inverse_transform\u001b[1;34m(self, X)\u001b[0m\n\u001b[0;32m    427\u001b[0m check_is_fitted(\u001b[39mself\u001b[39m)\n\u001b[0;32m    429\u001b[0m X \u001b[39m=\u001b[39m check_array(X, copy\u001b[39m=\u001b[39m\u001b[39mself\u001b[39m\u001b[39m.\u001b[39mcopy, dtype\u001b[39m=\u001b[39mFLOAT_DTYPES,\n\u001b[0;32m    430\u001b[0m                 force_all_finite\u001b[39m=\u001b[39m\u001b[39m\"\u001b[39m\u001b[39mallow-nan\u001b[39m\u001b[39m\"\u001b[39m)\n\u001b[1;32m--> 432\u001b[0m X \u001b[39m-\u001b[39m\u001b[39m=\u001b[39m \u001b[39mself\u001b[39m\u001b[39m.\u001b[39mmin_\n\u001b[0;32m    433\u001b[0m X \u001b[39m/\u001b[39m\u001b[39m=\u001b[39m \u001b[39mself\u001b[39m\u001b[39m.\u001b[39mscale_\n\u001b[0;32m    434\u001b[0m \u001b[39mreturn\u001b[39;00m X\n",
      "\u001b[1;31mValueError\u001b[0m: operands could not be broadcast together with shapes (27,74) (75,) (27,74) "
     ]
    }
   ],
   "source": [
    "# make a prediction\n",
    "yhat = model.predict(test_X)\n",
    "test_X = test_X.reshape((test_X.shape[0], test_X.shape[2]))\n",
    "# invert scaling for forecast\n",
    "inv_yhat = concatenate((yhat, test_X[:, 1:]), axis=1)\n",
    "inv_yhat = scaler.inverse_transform(inv_yhat)\n",
    "inv_yhat = inv_yhat[:,0]\n",
    "# invert scaling for actual\n",
    "test_y = test_y.reshape((len(test_y), 1))\n",
    "inv_y = concatenate((test_y, test_X[:, 1:]), axis=1)\n",
    "inv_y = scaler.inverse_transform(inv_y)\n",
    "inv_y = inv_y[:,0]\n",
    "# calculate RMSE\n",
    "rmse = math.sqrt(mean_squared_error(inv_y, inv_yhat))\n",
    "print('Test RMSE: %.3f' % rmse)"
   ]
  },
  {
   "cell_type": "code",
   "execution_count": 22,
   "metadata": {},
   "outputs": [
    {
     "data": {
      "text/plain": [
       "array([[0.06941649, 0.29411766, 0.34426227, ..., 0.12576102, 0.        ,\n",
       "        0.        ],\n",
       "       [0.06841046, 0.30882356, 0.34426227, ..., 0.13130043, 0.        ,\n",
       "        0.        ],\n",
       "       [0.05533199, 0.32352942, 0.26229507, ..., 0.13683987, 0.        ,\n",
       "        0.        ],\n",
       "       ...,\n",
       "       [0.01006036, 0.2647059 , 0.26229507, ..., 0.42002335, 0.        ,\n",
       "        0.        ],\n",
       "       [0.01006036, 0.2647059 , 0.26229507, ..., 0.4287307 , 0.        ,\n",
       "        0.        ],\n",
       "       [0.00804829, 0.2647059 , 0.24590163, ..., 0.43584526, 0.        ,\n",
       "        0.        ]], dtype=float32)"
      ]
     },
     "execution_count": 22,
     "metadata": {},
     "output_type": "execute_result"
    }
   ],
   "source": [
    "test_X "
   ]
  },
  {
   "cell_type": "code",
   "execution_count": 26,
   "metadata": {},
   "outputs": [
    {
     "data": {
      "text/plain": [
       "array([[0.29411766, 0.34426227, 0.61818314, ..., 0.12576102, 0.        ,\n",
       "        0.        ],\n",
       "       [0.30882356, 0.34426227, 0.61818314, ..., 0.13130043, 0.        ,\n",
       "        0.        ],\n",
       "       [0.32352942, 0.26229507, 0.61818314, ..., 0.13683987, 0.        ,\n",
       "        0.        ],\n",
       "       ...,\n",
       "       [0.2647059 , 0.26229507, 0.7818184 , ..., 0.42002335, 0.        ,\n",
       "        0.        ],\n",
       "       [0.2647059 , 0.26229507, 0.7818184 , ..., 0.4287307 , 0.        ,\n",
       "        0.        ],\n",
       "       [0.2647059 , 0.24590163, 0.7818184 , ..., 0.43584526, 0.        ,\n",
       "        0.        ]], dtype=float32)"
      ]
     },
     "execution_count": 26,
     "metadata": {},
     "output_type": "execute_result"
    }
   ],
   "source": [
    "test_X [:, 1:]"
   ]
  },
  {
   "cell_type": "code",
   "execution_count": 13,
   "metadata": {},
   "outputs": [],
   "source": [
    "encoder = LabelEncoder() #编码\n",
    "values[:,4] = encoder.fit_transform(values[:,4]) #将第4列编码\n",
    "values = values.astype('float32') #使得所有数值类型都是float类型\n",
    "scaler = MinMaxScaler(feature_range = (0, 1)) #0-1归一化\n",
    "scaled = scaler.fit_transform(values)\n",
    "reframed = series_to_supervised(scaled, 1, 1) #调用series_to_supervised函数将数据转为监督数据变成16列\n",
    "reframed.drop(reframed.columns[[9, 10, 11, 12, 13, 14, 15]], axis= 1,inplace = True) \n",
    "values = reframed.values\n",
    "n_train_hours = 365*24 #一年的小时数\n",
    "train = values[:n_train_hours, :] #训练集\n",
    "test = values[n_train_hours:, :] #测试集\n",
    "train_x, train_y = train[:, :-1], train[:, -1] #训练集特征和标签 \n",
    "test_x, test_y = test[:, :-1], test[:, -1] #测试集的特征和标签\n",
    "train_x = train_x.reshape((train_x.shape[0], 1, train_x.shape[1])) #转为LSTM模型的输入格式（samples, timesteps, features）\n",
    "test_x = test_x.reshape((test_x.shape[0], 1, test_x.shape[1])) #转为LSTM模型的输入格式（samples, timesteps, features）\n"
   ]
  },
  {
   "cell_type": "code",
   "execution_count": 14,
   "metadata": {},
   "outputs": [
    {
     "name": "stdout",
     "output_type": "stream",
     "text": [
      "Epoch 1/50\n"
     ]
    },
    {
     "ename": "ValueError",
     "evalue": "in user code:\n\n    File \"C:\\Users\\DodoLu\\AppData\\Local\\Packages\\PythonSoftwareFoundation.Python.3.9_qbz5n2kfra8p0\\LocalCache\\local-packages\\Python39\\site-packages\\keras\\engine\\training.py\", line 878, in train_function  *\n        return step_function(self, iterator)\n    File \"C:\\Users\\DodoLu\\AppData\\Local\\Packages\\PythonSoftwareFoundation.Python.3.9_qbz5n2kfra8p0\\LocalCache\\local-packages\\Python39\\site-packages\\keras\\engine\\training.py\", line 867, in step_function  **\n        outputs = model.distribute_strategy.run(run_step, args=(data,))\n    File \"C:\\Users\\DodoLu\\AppData\\Local\\Packages\\PythonSoftwareFoundation.Python.3.9_qbz5n2kfra8p0\\LocalCache\\local-packages\\Python39\\site-packages\\keras\\engine\\training.py\", line 860, in run_step  **\n        outputs = model.train_step(data)\n    File \"C:\\Users\\DodoLu\\AppData\\Local\\Packages\\PythonSoftwareFoundation.Python.3.9_qbz5n2kfra8p0\\LocalCache\\local-packages\\Python39\\site-packages\\keras\\engine\\training.py\", line 808, in train_step\n        y_pred = self(x, training=True)\n    File \"C:\\Users\\DodoLu\\AppData\\Local\\Packages\\PythonSoftwareFoundation.Python.3.9_qbz5n2kfra8p0\\LocalCache\\local-packages\\Python39\\site-packages\\keras\\utils\\traceback_utils.py\", line 67, in error_handler\n        raise e.with_traceback(filtered_tb) from None\n    File \"C:\\Users\\DodoLu\\AppData\\Local\\Packages\\PythonSoftwareFoundation.Python.3.9_qbz5n2kfra8p0\\LocalCache\\local-packages\\Python39\\site-packages\\keras\\engine\\input_spec.py\", line 263, in assert_input_compatibility\n        raise ValueError(f'Input {input_index} of layer \"{layer_name}\" is '\n\n    ValueError: Input 0 of layer \"sequential_2\" is incompatible with the layer: expected shape=(None, 8760, 10), found shape=(None, 1, 10)\n",
     "output_type": "error",
     "traceback": [
      "\u001b[1;31m---------------------------------------------------------------------------\u001b[0m",
      "\u001b[1;31mValueError\u001b[0m                                Traceback (most recent call last)",
      "\u001b[1;32mc:\\Users\\DodoLu\\Desktop\\paper\\openpose\\python\\LSTM.ipynb Cell 15\u001b[0m in \u001b[0;36m<cell line: 5>\u001b[1;34m()\u001b[0m\n\u001b[0;32m      <a href='vscode-notebook-cell:/c%3A/Users/DodoLu/Desktop/paper/openpose/python/LSTM.ipynb#X20sZmlsZQ%3D%3D?line=2'>3</a>\u001b[0m model\u001b[39m.\u001b[39madd(Dense(\u001b[39m1\u001b[39m))\n\u001b[0;32m      <a href='vscode-notebook-cell:/c%3A/Users/DodoLu/Desktop/paper/openpose/python/LSTM.ipynb#X20sZmlsZQ%3D%3D?line=3'>4</a>\u001b[0m model\u001b[39m.\u001b[39mcompile(loss \u001b[39m=\u001b[39m \u001b[39m\"\u001b[39m\u001b[39mmae\u001b[39m\u001b[39m\"\u001b[39m,optimizer\u001b[39m=\u001b[39m \u001b[39m\"\u001b[39m\u001b[39madam\u001b[39m\u001b[39m\"\u001b[39m)\n\u001b[1;32m----> <a href='vscode-notebook-cell:/c%3A/Users/DodoLu/Desktop/paper/openpose/python/LSTM.ipynb#X20sZmlsZQ%3D%3D?line=4'>5</a>\u001b[0m history \u001b[39m=\u001b[39mmodel\u001b[39m.\u001b[39;49mfit(train_x, train_y, epochs\u001b[39m=\u001b[39;49m \u001b[39m50\u001b[39;49m, batch_size\u001b[39m=\u001b[39;49m\u001b[39m72\u001b[39;49m, validation_data\u001b[39m=\u001b[39;49m(test_x, test_y), verbose\u001b[39m=\u001b[39;49m\u001b[39m2\u001b[39;49m, shuffle\u001b[39m=\u001b[39;49m\u001b[39mFalse\u001b[39;49;00m)\n\u001b[0;32m      <a href='vscode-notebook-cell:/c%3A/Users/DodoLu/Desktop/paper/openpose/python/LSTM.ipynb#X20sZmlsZQ%3D%3D?line=5'>6</a>\u001b[0m plt\u001b[39m.\u001b[39mfigure()\n\u001b[0;32m      <a href='vscode-notebook-cell:/c%3A/Users/DodoLu/Desktop/paper/openpose/python/LSTM.ipynb#X20sZmlsZQ%3D%3D?line=6'>7</a>\u001b[0m plt\u001b[39m.\u001b[39mplot(history\u001b[39m.\u001b[39mhistory[\u001b[39m\"\u001b[39m\u001b[39mloss\u001b[39m\u001b[39m\"\u001b[39m], label \u001b[39m=\u001b[39m \u001b[39m\"\u001b[39m\u001b[39mtrain\u001b[39m\u001b[39m\"\u001b[39m)\n",
      "File \u001b[1;32m~\\AppData\\Local\\Packages\\PythonSoftwareFoundation.Python.3.9_qbz5n2kfra8p0\\LocalCache\\local-packages\\Python39\\site-packages\\keras\\utils\\traceback_utils.py:67\u001b[0m, in \u001b[0;36mfilter_traceback.<locals>.error_handler\u001b[1;34m(*args, **kwargs)\u001b[0m\n\u001b[0;32m     65\u001b[0m \u001b[39mexcept\u001b[39;00m \u001b[39mException\u001b[39;00m \u001b[39mas\u001b[39;00m e:  \u001b[39m# pylint: disable=broad-except\u001b[39;00m\n\u001b[0;32m     66\u001b[0m   filtered_tb \u001b[39m=\u001b[39m _process_traceback_frames(e\u001b[39m.\u001b[39m__traceback__)\n\u001b[1;32m---> 67\u001b[0m   \u001b[39mraise\u001b[39;00m e\u001b[39m.\u001b[39mwith_traceback(filtered_tb) \u001b[39mfrom\u001b[39;00m \u001b[39mNone\u001b[39m\n\u001b[0;32m     68\u001b[0m \u001b[39mfinally\u001b[39;00m:\n\u001b[0;32m     69\u001b[0m   \u001b[39mdel\u001b[39;00m filtered_tb\n",
      "File \u001b[1;32m~\\AppData\\Local\\Packages\\PythonSoftwareFoundation.Python.3.9_qbz5n2kfra8p0\\LocalCache\\local-packages\\Python39\\site-packages\\tensorflow\\python\\framework\\func_graph.py:1129\u001b[0m, in \u001b[0;36mfunc_graph_from_py_func.<locals>.autograph_handler\u001b[1;34m(*args, **kwargs)\u001b[0m\n\u001b[0;32m   1127\u001b[0m \u001b[39mexcept\u001b[39;00m \u001b[39mException\u001b[39;00m \u001b[39mas\u001b[39;00m e:  \u001b[39m# pylint:disable=broad-except\u001b[39;00m\n\u001b[0;32m   1128\u001b[0m   \u001b[39mif\u001b[39;00m \u001b[39mhasattr\u001b[39m(e, \u001b[39m\"\u001b[39m\u001b[39mag_error_metadata\u001b[39m\u001b[39m\"\u001b[39m):\n\u001b[1;32m-> 1129\u001b[0m     \u001b[39mraise\u001b[39;00m e\u001b[39m.\u001b[39mag_error_metadata\u001b[39m.\u001b[39mto_exception(e)\n\u001b[0;32m   1130\u001b[0m   \u001b[39melse\u001b[39;00m:\n\u001b[0;32m   1131\u001b[0m     \u001b[39mraise\u001b[39;00m\n",
      "\u001b[1;31mValueError\u001b[0m: in user code:\n\n    File \"C:\\Users\\DodoLu\\AppData\\Local\\Packages\\PythonSoftwareFoundation.Python.3.9_qbz5n2kfra8p0\\LocalCache\\local-packages\\Python39\\site-packages\\keras\\engine\\training.py\", line 878, in train_function  *\n        return step_function(self, iterator)\n    File \"C:\\Users\\DodoLu\\AppData\\Local\\Packages\\PythonSoftwareFoundation.Python.3.9_qbz5n2kfra8p0\\LocalCache\\local-packages\\Python39\\site-packages\\keras\\engine\\training.py\", line 867, in step_function  **\n        outputs = model.distribute_strategy.run(run_step, args=(data,))\n    File \"C:\\Users\\DodoLu\\AppData\\Local\\Packages\\PythonSoftwareFoundation.Python.3.9_qbz5n2kfra8p0\\LocalCache\\local-packages\\Python39\\site-packages\\keras\\engine\\training.py\", line 860, in run_step  **\n        outputs = model.train_step(data)\n    File \"C:\\Users\\DodoLu\\AppData\\Local\\Packages\\PythonSoftwareFoundation.Python.3.9_qbz5n2kfra8p0\\LocalCache\\local-packages\\Python39\\site-packages\\keras\\engine\\training.py\", line 808, in train_step\n        y_pred = self(x, training=True)\n    File \"C:\\Users\\DodoLu\\AppData\\Local\\Packages\\PythonSoftwareFoundation.Python.3.9_qbz5n2kfra8p0\\LocalCache\\local-packages\\Python39\\site-packages\\keras\\utils\\traceback_utils.py\", line 67, in error_handler\n        raise e.with_traceback(filtered_tb) from None\n    File \"C:\\Users\\DodoLu\\AppData\\Local\\Packages\\PythonSoftwareFoundation.Python.3.9_qbz5n2kfra8p0\\LocalCache\\local-packages\\Python39\\site-packages\\keras\\engine\\input_spec.py\", line 263, in assert_input_compatibility\n        raise ValueError(f'Input {input_index} of layer \"{layer_name}\" is '\n\n    ValueError: Input 0 of layer \"sequential_2\" is incompatible with the layer: expected shape=(None, 8760, 10), found shape=(None, 1, 10)\n"
     ]
    }
   ],
   "source": [
    "model = Sequential()\n",
    "model.add(LSTM(50, input_shape = (train_x.shape[0], train_x.shape[2]))) #8760*8\n",
    "model.add(Dense(1))\n",
    "model.compile(loss = \"mae\",optimizer= \"adam\")\n",
    "history =model.fit(train_x, train_y, epochs= 50, batch_size=72, validation_data=(test_x, test_y), verbose=2, shuffle=False)\n",
    "plt.figure()\n",
    "plt.plot(history.history[\"loss\"], label = \"train\")\n",
    "plt.plot(history.history[\"val_loss\"], label = \"test\")\n",
    "plt.legend()\n",
    "plt.show()\n"
   ]
  },
  {
   "cell_type": "code",
   "execution_count": null,
   "metadata": {},
   "outputs": [],
   "source": [
    "from keras.utils.vis_utils import plot_model\n",
    "from keras.layers import TimeDistributed\n",
    "from keras.layers import RepeatVector\n",
    "from keras.layers import Dense\n",
    "from keras.layers import LSTM\n",
    "from keras.layers import Dropout\n",
    "from keras.models import Sequential\n",
    "import matplotlib.pyplot as plt\n",
    "from numpy import array\n",
    "import pandas as pd\n",
    "import numpy as np\n",
    "from sklearn.model_selection import train_test_split\n",
    "import os\n",
    "from keras.models import Sequential, load_model\n",
    "from sklearn.preprocessing import MinMaxScaler"
   ]
  },
  {
   "cell_type": "code",
   "execution_count": null,
   "metadata": {},
   "outputs": [],
   "source": [
    "\n"
   ]
  }
 ],
 "metadata": {
  "kernelspec": {
   "display_name": "Python 3.9.13 64-bit (windows store)",
   "language": "python",
   "name": "python3"
  },
  "language_info": {
   "codemirror_mode": {
    "name": "ipython",
    "version": 3
   },
   "file_extension": ".py",
   "mimetype": "text/x-python",
   "name": "python",
   "nbconvert_exporter": "python",
   "pygments_lexer": "ipython3",
   "version": "3.9.13"
  },
  "orig_nbformat": 4,
  "vscode": {
   "interpreter": {
    "hash": "47aea66f71e7fdb103b1737d394a756c17127304a0e5b79056f1465daabedcb8"
   }
  }
 },
 "nbformat": 4,
 "nbformat_minor": 2
}
