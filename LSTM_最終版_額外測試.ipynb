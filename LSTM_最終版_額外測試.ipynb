{
 "cells": [
  {
   "cell_type": "code",
   "execution_count": 31,
   "metadata": {},
   "outputs": [],
   "source": [
    "import pandas as pd\n",
    "import numpy as np\n",
    "import matplotlib.pyplot as plt\n",
    "import math\n",
    "from sklearn.preprocessing import LabelEncoder, MinMaxScaler\n",
    "from sklearn.metrics import mean_squared_error\n",
    "from sklearn.metrics import accuracy_score"
   ]
  },
  {
   "cell_type": "code",
   "execution_count": 2,
   "metadata": {},
   "outputs": [],
   "source": [
    "def rename (dataset_1,dataset_2,dataset_3):\n",
    "    nn_1 = []\n",
    "    lt_1 = list(dataset_1)\n",
    "    for i in range(len(lt_1)):\n",
    "        nn_1.append(lt_1[i]+'_1')\n",
    "    dataset_1.columns = nn_1\n",
    "    nn_2 = []\n",
    "    lt_2 = list(dataset_2)\n",
    "    for i in range(len(lt_2)):\n",
    "        nn_2.append(lt_2[i]+'_2')\n",
    "    dataset_2.columns = nn_2\n",
    "    nn_3 = []\n",
    "    lt_3 = list(dataset_3)\n",
    "    for i in range(len(lt_3)):\n",
    "        nn_3.append(lt_3[i]+'_3')\n",
    "    dataset_3.columns = nn_3"
   ]
  },
  {
   "cell_type": "code",
   "execution_count": 3,
   "metadata": {},
   "outputs": [],
   "source": [
    "def star_end(i):\n",
    "    path = sector+':/openpose_data/揮手測試/'+i+'/標記.txt'\n",
    "    f = open(path, 'r')\n",
    "    #print(f.read())\n",
    "    l = f.read().split()\n",
    "    f.close()\n",
    "    return(int(l[0][5:]),int(l[11][4:]))"
   ]
  },
  {
   "cell_type": "code",
   "execution_count": 42,
   "metadata": {},
   "outputs": [],
   "source": [
    "def values (dataset):\n",
    "    dataset['rl_wave'] = dataset['wave']\n",
    "    dataset= dataset.drop(['wave'],axis=1)\n",
    "    values = dataset.values #数值特征变量\n",
    "    # convert series to supervised learning\n",
    "    def series_to_supervised(data, n_in=1, n_out=1, dropnan=True):\n",
    "        n_vars = 1 if type(data) is list else data.shape[1]\n",
    "        df = pd.DataFrame(data)\n",
    "        cols, names = list(), list()\n",
    "        # input sequence (t-n, ... t-1)\n",
    "        for i in range(n_in, 0, -1):\n",
    "            cols.append(df.shift(i))\n",
    "            names += [('var%d(t-%d)' % (j+1, i)) for j in range(n_vars)]\n",
    "        # forecast sequence (t, t+1, ... t+n)\n",
    "        for i in range(0, n_out):\n",
    "            cols.append(df.shift(-i))\n",
    "            if i == 0:\n",
    "                names += [('var%d(t)' % (j+1)) for j in range(n_vars)]\n",
    "            else:\n",
    "                names += [('var%d(t+%d)' % (j+1, i)) for j in range(n_vars)]\n",
    "        # put it all together\n",
    "        agg = pd.concat(cols, axis=1)\n",
    "        agg.columns = names\n",
    "        # drop rows with NaN values\n",
    "        if dropnan:\n",
    "            agg.dropna(inplace=True)\n",
    "        return agg\n",
    "    # ensure all data is float\n",
    "    values = values.astype('float32')\n",
    "    # normalize features 歸一化\n",
    "    ''''''\n",
    "    scaler = MinMaxScaler(feature_range=(0, 1))\n",
    "    scaled = scaler.fit_transform(values)\n",
    "    \n",
    "    # frame as supervised learning\n",
    "    reframed = series_to_supervised(scaled, 1, 1)\n",
    "    \n",
    "    #reframed = series_to_supervised(values, 1, 1)\n",
    "    # drop columns we don't want to predict\n",
    "    reframed.drop(reframed.columns[[range(len(list(dataset)),len(list(dataset))*2)]], axis=1, inplace=True)\n",
    "    \n",
    "    # split into train and test sets\n",
    "    values = reframed.values\n",
    "    # n_train_hours = int(len(values)*0.7)\n",
    "    # train = values[:n_train_hours, :]\n",
    "    # test = values[n_train_hours:, :]\n",
    "    # split into input and outputs\n",
    "    # train_X, train_y = train[:,:-1], train[:, -1]\n",
    "    test_X, test_y = values[:, :-1], values[:, -1]\n",
    "    # reshape input to be 3D [samples, timesteps, features]\n",
    "    # train_X = train_X.reshape((train_X.shape[0], 1, train_X.shape[1]))\n",
    "    test_X = test_X.reshape((test_X.shape[0], 1, test_X.shape[1]))\n",
    "    #print(train_X.shape, train_y.shape, test_X.shape, test_y.shape)\n",
    "    return(test_X,test_y)\n",
    "    "
   ]
  },
  {
   "cell_type": "code",
   "execution_count": 4,
   "metadata": {},
   "outputs": [
    {
     "name": "stdout",
     "output_type": "stream",
     "text": [
      "50 900\n"
     ]
    }
   ],
   "source": [
    "fn = ['額外測試']#,'起立蹲下'\n",
    "sector = 'D'\n",
    "for i in fn:\n",
    "    dataset_0 = pd.read_csv(sector+':/openpose_data/揮手測試/'+i+'/骨架資訊_all_標記.csv')#, header= None) \n",
    "    dataset_1 = pd.read_csv(sector+':/openpose_data/揮手測試/'+i+'/骨架測試_相關距離.csv') \n",
    "    dataset_2 = pd.read_csv(sector+':/openpose_data/揮手測試/'+i+'/骨架測試_移動距離.csv') \n",
    "    dataset_3 = pd.read_csv(sector+':/openpose_data/揮手測試/'+i+'/骨架測試_關節角度(左右手).csv') \n",
    "    dataset_4 = pd.read_csv(sector+':/openpose_data/揮手測試/'+i+'/骨架測試_關節向量(左右手).csv') \n",
    "    rename(dataset_1,dataset_2,dataset_3)\n",
    "    locals()['dataset_'+str(i)] = pd.concat([dataset_0,dataset_1,dataset_2,dataset_3,dataset_4],axis= 1).dropna(axis=0)#\n",
    "    #locals()['dataset_'+str(i)] = pd.concat([dataset_0,dataset_1,dataset_2],axis= 1).dropna(axis=0)\n",
    "    star , end = star_end(i)\n",
    "    print(star , end)\n",
    "    locals()['dataset_'+str(i)] = locals()['dataset_'+str(i)][star:end]"
   ]
  },
  {
   "cell_type": "code",
   "execution_count": 44,
   "metadata": {},
   "outputs": [
    {
     "name": "stdout",
     "output_type": "stream",
     "text": [
      "50 900\n",
      "2\n",
      "測試資料 :  849\n"
     ]
    },
    {
     "name": "stderr",
     "output_type": "stream",
     "text": [
      "C:\\Users\\DodoLu\\AppData\\Local\\Packages\\PythonSoftwareFoundation.Python.3.9_qbz5n2kfra8p0\\LocalCache\\local-packages\\Python39\\site-packages\\pandas\\core\\indexes\\base.py:5055: FutureWarning: Using a non-tuple sequence for multidimensional indexing is deprecated; use `arr[tuple(seq)]` instead of `arr[seq]`. In the future this will be interpreted as an array index, `arr[np.array(seq)]`, which will result either in an error or a different result.\n",
      "  result = getitem(key)\n"
     ]
    }
   ],
   "source": [
    "fn = ['額外測試']#,'起立蹲下'\n",
    "number = 2\n",
    "for i in fn:\n",
    "    dataset_0 = pd.read_csv(sector+':/openpose_data/揮手測試/'+i+'/骨架資訊_all_標記.csv')#, header= None) \n",
    "    dataset_1 = pd.read_csv(sector+':/openpose_data/揮手測試/'+i+'/骨架測試_相關距離.csv') \n",
    "    dataset_2 = pd.read_csv(sector+':/openpose_data/揮手測試/'+i+'/骨架測試_移動距離.csv') \n",
    "    dataset_3 = pd.read_csv(sector+':/openpose_data/揮手測試/'+i+'/骨架測試_關節角度(左右手).csv') \n",
    "    dataset_4 = pd.read_csv(sector+':/openpose_data/揮手測試/'+i+'/骨架測試_關節向量(左右手).csv') \n",
    "    rename(dataset_1,dataset_2,dataset_3)\n",
    "    locals()['dataset_'+str(i)] = pd.concat([dataset_0,dataset_1,dataset_2,dataset_3,dataset_4],axis= 1).dropna(axis=0)\n",
    "    star , end = star_end(i)\n",
    "    print(star , end)\n",
    "    locals()['dataset_'+str(i)] = locals()['dataset_'+str(i)][star:end]\n",
    "    locals()['test_X_'+str(i)] ,locals()['test_y_'+str(i)] = values(locals()['dataset_'+str(i)])#.iloc[:,75:]\n",
    "    locals()['test_y_'+str(i)][locals()['test_y_'+str(i)] ==1] = number\n",
    "    print(number)\n",
    "    number = number+1\n",
    "\n",
    "\n",
    "    # tes_X.append(locals()['test_X_'+str(i)])\n",
    "    # tes_y.append(locals()['test_y_'+str(i)])\n",
    "\n",
    "    \n",
    "\n",
    "    print('測試資料 : ',len(locals()['test_y_'+str(i)]))"
   ]
  },
  {
   "cell_type": "code",
   "execution_count": 45,
   "metadata": {},
   "outputs": [
    {
     "name": "stdout",
     "output_type": "stream",
     "text": [
      "多動作測試資料\n"
     ]
    },
    {
     "name": "stderr",
     "output_type": "stream",
     "text": [
      "C:\\Users\\DodoLu\\AppData\\Local\\Packages\\PythonSoftwareFoundation.Python.3.9_qbz5n2kfra8p0\\LocalCache\\local-packages\\Python39\\site-packages\\pandas\\core\\indexes\\base.py:5055: FutureWarning: Using a non-tuple sequence for multidimensional indexing is deprecated; use `arr[tuple(seq)]` instead of `arr[seq]`. In the future this will be interpreted as an array index, `arr[np.array(seq)]`, which will result either in an error or a different result.\n",
      "  result = getitem(key)\n"
     ]
    }
   ],
   "source": [
    "dataset = locals()['dataset_'+str(i)]\n",
    "values = dataset.values #数值特征变量\n",
    "# convert series to supervised learning\n",
    "def series_to_supervised(data, n_in=1, n_out=1, dropnan=True):\n",
    "    n_vars = 1 if type(data) is list else data.shape[1]\n",
    "    df = pd.DataFrame(data)\n",
    "    cols, names = list(), list()\n",
    "    # input sequence (t-n, ... t-1)\n",
    "    for i in range(n_in, 0, -1):\n",
    "        cols.append(df.shift(i))\n",
    "        names += [('var%d(t-%d)' % (j+1, i)) for j in range(n_vars)]\n",
    "    # forecast sequence (t, t+1, ... t+n)\n",
    "    for i in range(0, n_out):\n",
    "        cols.append(df.shift(-i))\n",
    "        if i == 0:\n",
    "            names += [('var%d(t)' % (j+1)) for j in range(n_vars)]\n",
    "        else:\n",
    "            names += [('var%d(t+%d)' % (j+1, i)) for j in range(n_vars)]\n",
    "    # put it all together\n",
    "    agg = pd.concat(cols, axis=1)\n",
    "    agg.columns = names\n",
    "    # drop rows with NaN values\n",
    "    if dropnan:\n",
    "        agg.dropna(inplace=True)\n",
    "    return agg\n",
    "# ensure all data is float\n",
    "values = values.astype('float32')\n",
    "# normalize features 歸一化\n",
    "''''''\n",
    "scaler = MinMaxScaler(feature_range=(0, 1))\n",
    "scaled = scaler.fit_transform(values)\n",
    "\n",
    "# frame as supervised learning\n",
    "reframed = series_to_supervised(scaled, 1, 1)\n",
    "# drop columns we don't want to predict\n",
    "reframed.drop(reframed.columns[[range(len(list(dataset)),len(list(dataset))*2)]], axis=1, inplace=True)\n",
    "\n",
    "# split into train and test sets\n",
    "values = reframed.values\n",
    "test_test = values.reshape((values.shape[0], 1, values.shape[1]))\n",
    "print('多動作測試資料')\n"
   ]
  },
  {
   "cell_type": "code",
   "execution_count": 46,
   "metadata": {},
   "outputs": [],
   "source": [
    "def fiveway(arr):\n",
    "    # 将五个状态的元素分别设为 1、2、3、4、5\n",
    "    arr_states = np.zeros((len(arr), 5), dtype=int) ##\n",
    "    for i in range(1, 6): ##\n",
    "        arr_states[:, i-1][arr == i] = 1\n",
    "        \n",
    "    # 使用卷积操作查找连续的五个相同的元素\n",
    "    nb = 5 ##\n",
    "    kernel = np.ones(nb)\n",
    "    result_states = np.apply_along_axis(lambda x: np.convolve(x, kernel, mode='same'), axis=0, arr=arr_states)\n",
    "\n",
    "\n",
    "    # 将大于等于 5 的元素视为当前状态，其他元素视为 0\n",
    "    result_states[result_states < nb] = 0\n",
    "    idx = np.where(result_states >= nb)\n",
    "\n",
    "    # 使用布尔索引找到对应的行和列\n",
    "    row_idx = idx[0]\n",
    "    col_idx = idx[1]\n",
    "\n",
    "    # 将值为 5 的位置改成对应的列号\n",
    "    result_states[row_idx, col_idx] = col_idx + 1\n",
    "\n",
    "    # 将所有状态的结果相加得到总结果\n",
    "    result = np.sum(result_states, axis=1)\n",
    "\n",
    "    # 输出结果\n",
    "    return(result)"
   ]
  },
  {
   "cell_type": "code",
   "execution_count": 47,
   "metadata": {},
   "outputs": [],
   "source": [
    "def show_conf_mat(cm):  #可視化混淆矩陣\n",
    "    # 定义类别数量\n",
    "    num_classes = cm.shape[0]\n",
    "\n",
    "    # 生成类别标签\n",
    "    #labels = [\"Class {}\".format(i+1) for i in range(num_classes)]\n",
    "    labels = ['normal','wave RH to R','wave RH to L','wave LH to R','wave LH to L','circle RH to R','circle RH to L','circle LH to R','circle LH to L','kick R','kick L']\n",
    "    \n",
    "    #\n",
    "    plt.figure(figsize=(10, 6))\n",
    "    \n",
    "    # 使用Seaborn來可視化混淆矩陣\n",
    "    sns.set(font_scale=1.5)\n",
    "    sns.heatmap(cm, annot=True, fmt=\"d\", cmap=\"Blues\", xticklabels=labels, yticklabels=labels)\n",
    "\n",
    "    # 添加標題和軸標籤\n",
    "    plt.title(\"Confusion Matrix\")\n",
    "    plt.xlabel(\"Predicted Label\")\n",
    "    plt.ylabel(\"True Label\")\n",
    "\n",
    "    # 顯示可視化結果\n",
    "    plt.show()\n",
    "    \n",
    "def showreport(report):  #可視化混淆矩陣數值\n",
    "    # 将report转换为DataFrame格式\n",
    "    df = pd.DataFrame(report).transpose()\n",
    "\n",
    "    # 为DataFrame添加列名\n",
    "    df.columns = ['precision', 'recall', 'f1-score', 'support']\n",
    "    \n",
    "    df['CLASS'] = ['normal','wave RH to R','wave RH to L','wave LH to R','wave LH to L','circle RH to R','circle RH to L','circle LH to R','circle LH to L','kick R','kick L'\n",
    "                 ,'accuracy','macro avg','weighted avg']\n",
    "    df.set_index('CLASS', inplace=True) \n",
    "    ax = df.iloc[1:-3,:-1].plot.bar(rot=90)#rot表示xstick旋轉的角度\n",
    "    ax.legend(bbox_to_anchor=(1.1, 1.2),ncol=3)\n",
    "    print(df)\n",
    "    \n",
    "    # Export DataFrame to Excel\n",
    "    df.to_excel('classification_report'+str(epochs)+'.xlsx', index=True)\n",
    "    # 显示图形\n",
    "    plt.show()\n",
    "    \n",
    "def show(y_true,y_pred):  #計算混淆矩陣及其相關評估數值\n",
    "    # 计算混淆矩阵和分类报告\n",
    "    conf_mat = confusion_matrix(y_true, y_pred)\n",
    "    #report = classification_report(y_true, y_pred)\n",
    "    report1 = classification_report(y_true, y_pred, output_dict=True)\n",
    "\n",
    "    print(conf_mat)\n",
    "    show_conf_mat(conf_mat)\n",
    "    showreport(report1)"
   ]
  },
  {
   "cell_type": "code",
   "execution_count": 35,
   "metadata": {},
   "outputs": [],
   "source": [
    "from tensorflow.keras.models import load_model\n",
    "epochs_test = 50\n",
    "testmodel = load_model('./model/lstm-Epoch'+str(epochs_test)+'.h5')"
   ]
  },
  {
   "cell_type": "code",
   "execution_count": 48,
   "metadata": {},
   "outputs": [
    {
     "data": {
      "image/png": "[encoded data removed]",
      "text/plain": [
       "<Figure size 1440x216 with 1 Axes>"
      ]
     },
     "metadata": {
      "needs_background": "light"
     },
     "output_type": "display_data"
    }
   ],
   "source": [
    "yhat = testmodel.predict(test_X_額外測試)\n",
    "\n",
    "# 將概率最大的元素作為預測類別\n",
    "predicted_labels = np.argmax(yhat, axis=1)\n",
    "\n",
    "#rmse = math.sqrt(mean_squared_error(predicted_labels, test_y))\n",
    "\n",
    "# 計算分類器的準確率\n",
    "#accuracy = accuracy_score(y_test, predicted_labels)\n",
    "#print(\"分類器的準確率為：\", accuracy)\n",
    "\n",
    "# 計算分類器的错误数量\n",
    "#error_count = np.count_nonzero(y_test != predicted_labels)\n",
    "#print(\"分類器的錯誤筆數為：\", error_count)\n",
    "\n",
    "#print('Test RMSE: %.3f' % rmse)\n",
    "plt.figure(figsize=(20, 3))\n",
    "plt.plot(predicted_labels)\n",
    "#plt.plot(test_y)\n",
    "#plt.axhline(y=3,color = 'red' , linestyle=\"-.\")\n",
    "plt.show()"
   ]
  },
  {
   "cell_type": "code",
   "execution_count": 50,
   "metadata": {},
   "outputs": [
    {
     "name": "stdout",
     "output_type": "stream",
     "text": [
      "分類器的準確率為： 0.5288574793875147\n",
      "分類器的錯誤筆數為： 400\n",
      "Test RMSE: 1.369\n"
     ]
    },
    {
     "data": {
      "image/png": "[encoded data removed]",
      "text/plain": [
       "<Figure size 1440x216 with 1 Axes>"
      ]
     },
     "metadata": {
      "needs_background": "light"
     },
     "output_type": "display_data"
    }
   ],
   "source": [
    "# print(grid_result,'\\n epochs:',epochs_test)# softmax\n",
    "yhat = testmodel.predict(test_X_額外測試)\n",
    "\n",
    "# 將概率最大的元素作為預測類別\n",
    "predicted_labels = np.argmax(yhat, axis=1)\n",
    "predicted_labels_5 = fiveway(predicted_labels)\n",
    "y_test_5 = fiveway(test_y_額外測試)\n",
    "\n",
    "rmse = math.sqrt(mean_squared_error(predicted_labels_5, y_test_5))\n",
    "\n",
    "# 計算分類器的準確率\n",
    "accuracy = accuracy_score(y_test_5, predicted_labels_5)\n",
    "print(\"分類器的準確率為：\", accuracy)\n",
    "\n",
    "# 計算分類器的错误数量\n",
    "error_count = np.count_nonzero(y_test_5 != predicted_labels_5)\n",
    "print(\"分類器的錯誤筆數為：\", error_count)\n",
    "\n",
    "print('Test RMSE: %.3f' % rmse)\n",
    "plt.figure(figsize=(20, 3))\n",
    "plt.plot(predicted_labels_5)\n",
    "# plt.plot(y_test_5)\n",
    "plt.show()\n"
   ]
  },
  {
   "cell_type": "code",
   "execution_count": null,
   "metadata": {},
   "outputs": [],
   "source": [
    "show(y_test, predicted_labels)"
   ]
  }
 ],
 "metadata": {
  "kernelspec": {
   "display_name": "Python 3",
   "language": "python",
   "name": "python3"
  },
  "language_info": {
   "codemirror_mode": {
    "name": "ipython",
    "version": 3
   },
   "file_extension": ".py",
   "mimetype": "text/x-python",
   "name": "python",
   "nbconvert_exporter": "python",
   "pygments_lexer": "ipython3",
   "version": "3.9.13"
  },
  "orig_nbformat": 4
 },
 "nbformat": 4,
 "nbformat_minor": 2
}
