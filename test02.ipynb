{
 "cells": [
  {
   "cell_type": "code",
   "execution_count": 139,
   "metadata": {},
   "outputs": [
    {
     "name": "stdout",
     "output_type": "stream",
     "text": [
      "[0 0 0 0 0 0 0 0 0 0 0 0 0 0 0 0 0 0 0 0 0 0 0 0 0 0 0 0 0 0 0]\n"
     ]
    }
   ],
   "source": [
    "import numpy as np\n",
    "\n",
    "def get_consecutive_state(arr):\n",
    "    \"\"\"\n",
    "    將array中連續出現5次的相同元素取出，其餘位置標為0。\n",
    "    \"\"\"\n",
    "    mask = np.concatenate(([False], arr[:-1] != arr[1:], [False]))\n",
    "    idx = np.flatnonzero(mask[1:] != mask[:-1])\n",
    "    count = idx[1::2] - idx[::2]\n",
    "    #max_count_idx = np.argmax(count, default=-1)\n",
    "    max_count_idx = np.argmax(count) if len(count) > 0 else -1\n",
    "    if max_count_idx >= 0 and count[max_count_idx] >= 5:\n",
    "        state = arr[idx[max_count_idx*2]]\n",
    "        return np.where(arr == state, state, 0)\n",
    "    else:\n",
    "        return np.zeros_like(arr)\n",
    "\n",
    "# 示例输入\n",
    "arr = np.array([0, 0, 1, 1, 1, 0, 1, 1, 1, 1, 0, 2, 2, 2, 2, 2, 0, 3, 3, 3, 0, 4, 4, 4, 4, 4, 4, 0, 5, 5, 5])\n",
    "\n",
    "# 调用函数\n",
    "result = get_consecutive_state(arr)\n",
    "\n",
    "# 输出结果\n",
    "print(result)\n"
   ]
  },
  {
   "cell_type": "code",
   "execution_count": 129,
   "metadata": {},
   "outputs": [
    {
     "name": "stdout",
     "output_type": "stream",
     "text": [
      "[0 0 0 0 0 0 0 0 0 0 0 0 0 0 0 0 0 0 0 0 0 0 0 0 0 0 0 0 0 0 0]\n"
     ]
    }
   ],
   "source": [
    "import numpy as np\n",
    "\n",
    "def get_consecutive_state(arr):\n",
    "    \"\"\"\n",
    "    將array中連續出現5次的相同元素取出，其餘位置標為0。\n",
    "    \"\"\"\n",
    "    mask = np.concatenate(([False], arr[:-1] != arr[1:], [False]))\n",
    "    idx = np.flatnonzero(mask[1:] != mask[:-1])\n",
    "    count = idx[1::2] - idx[::2]\n",
    "    max_count = np.max(count)\n",
    "    if max_count >= 5:\n",
    "        state = arr[idx[np.argmax(count)*2]]\n",
    "        return np.where(arr == state, state, 0)\n",
    "    else:\n",
    "        return np.zeros_like(arr)\n",
    "\n",
    "# 示例输入\n",
    "arr = np.array([0, 0, 1, 1, 1, 0, 1, 1, 1, 1, 0, 2, 2, 2, 2, 2, 0, 3, 3, 3, 0, 4, 4, 4, 4, 4, 4, 0, 5, 5, 5])\n",
    "\n",
    "# 调用函数\n",
    "result = get_consecutive_state(arr)\n",
    "\n",
    "# 输出结果\n",
    "print(result)\n"
   ]
  },
  {
   "cell_type": "code",
   "execution_count": 124,
   "metadata": {},
   "outputs": [
    {
     "data": {
      "text/plain": [
       "array([0, 0, 1, 1, 1, 0, 1, 1, 1, 1, 0, 2, 2, 2, 2, 2, 0, 3, 3, 3, 0, 4,\n",
       "       4, 4, 4, 4, 4, 0, 5, 5, 5])"
      ]
     },
     "execution_count": 124,
     "metadata": {},
     "output_type": "execute_result"
    }
   ],
   "source": [
    "arr"
   ]
  },
  {
   "cell_type": "code",
   "execution_count": 125,
   "metadata": {},
   "outputs": [
    {
     "data": {
      "text/plain": [
       "array([0, 0, 0, 0, 0, 0, 0, 0, 1, 1, 0, 2, 2, 2, 2, 2, 0, 3, 3, 3, 0, 4,\n",
       "       4, 4, 4, 4, 4, 0, 5, 5, 5])"
      ]
     },
     "execution_count": 125,
     "metadata": {},
     "output_type": "execute_result"
    }
   ],
   "source": [
    "status"
   ]
  },
  {
   "cell_type": "code",
   "execution_count": 126,
   "metadata": {},
   "outputs": [
    {
     "name": "stdout",
     "output_type": "stream",
     "text": [
      "[0. 0. 0. 0. 0. 0. 0. 0. 0. 0. 0. 0. 0. 2. 0. 0. 0. 0. 0. 0. 0. 0. 0. 4.\n",
      " 4. 0. 0. 0. 0. 0. 0.]\n"
     ]
    }
   ],
   "source": [
    "import numpy as np\n",
    "\n",
    "# 创建一个示例数组，包含五个状态：1、2、3、4、5\n",
    "arr = np.array([0, 0, 1, 1, 1, 0, 1, 1, 1, 1, 0, 2, 2, 2, 2, 2, 0, 3, 3, 3, 0, 4, 4, 4, 4, 4, 4, 0, 5, 5, 5])\n",
    "\n",
    "# 使用卷积操作来查找连续的五个相同的状态\n",
    "result = np.zeros(len(arr), dtype=int)\n",
    "for i in range(1, 6):\n",
    "    # 将当前状态的元素设为 1，其他状态的元素设为 0\n",
    "    temp_arr = np.zeros(len(arr), dtype=int)\n",
    "    temp_arr[arr == i] = 1\n",
    "    \n",
    "    # 使用卷积操作查找连续的五个相同的状态\n",
    "    kernel = np.ones(5)\n",
    "    temp_result = np.convolve(temp_arr, kernel, mode='same')\n",
    "    \n",
    "    # 将大于等于 5 的元素视为当前状态，其他元素视为 0\n",
    "    temp_result[temp_result < 5] = 0\n",
    "    temp_result[temp_result >= 5] = i\n",
    "    \n",
    "    # 将当前状态的结果加到总结果中\n",
    "    result = result + temp_result\n",
    "\n",
    "# 输出结果\n",
    "print(result)\n"
   ]
  },
  {
   "cell_type": "code",
   "execution_count": 111,
   "metadata": {},
   "outputs": [],
   "source": [
    "import numpy as np\n",
    "\n",
    "# 创建一个示例数组，包含五个状态：1、2、3、4、5\n",
    "arr = np.array([0, 0, 1, 1, 1, 1, 1, 1, 1, 1, 0, 2, 2, 2, 2, 2, 0, 3, 3, 3, 0, 4, 4, 4, 4, 4, 4, 0, 5, 5, 5,5,5,5,5,5,5,5,5,5,5,5,5,5,5,5,5,5])\n",
    "\n",
    "# 将五个状态的元素分别设为 1、2、3、4、5\n",
    "arr_states = np.zeros((len(arr), 5), dtype=int)\n",
    "for i in range(1, 6):\n",
    "    arr_states[:, i-1][arr == i] = 1\n",
    "\n",
    "# 使用卷积操作查找连续的五个相同的元素\n",
    "kernel = np.ones(5)\n",
    "result_states = np.apply_along_axis(lambda x: np.convolve(x, kernel, mode='same'), axis=0, arr=arr_states)\n",
    "\n",
    "# 将大于等于 5 的元素视为当前状态，其他元素视为 0\n",
    "result_states[result_states < 5] = 0\n",
    "\n",
    "\n"
   ]
  },
  {
   "cell_type": "code",
   "execution_count": null,
   "metadata": {},
   "outputs": [],
   "source": [
    "tt = np.argmax(result_states, axis=1) \n",
    "tt0 = tt[tt>0] \n",
    "result_states[result_states >= 5] = tt0 +1\n",
    "\n",
    "# 将所有状态的结果相加得到总结果\n",
    "result = np.sum(result_states, axis=1)\n",
    "\n",
    "# 输出结果\n",
    "print(result)"
   ]
  },
  {
   "cell_type": "code",
   "execution_count": 51,
   "metadata": {},
   "outputs": [
    {
     "data": {
      "text/plain": [
       "array([[1., 0., 0., 0., 0.],\n",
       "       [2., 0., 0., 0., 0.],\n",
       "       [3., 0., 0., 0., 0.],\n",
       "       [3., 0., 0., 0., 0.],\n",
       "       [4., 0., 0., 0., 0.],\n",
       "       [4., 0., 0., 0., 0.],\n",
       "       [4., 0., 0., 0., 0.],\n",
       "       [4., 0., 0., 0., 0.],\n",
       "       [4., 0., 0., 0., 0.],\n",
       "       [3., 1., 0., 0., 0.],\n",
       "       [2., 2., 0., 0., 0.],\n",
       "       [1., 3., 0., 0., 0.],\n",
       "       [0., 4., 0., 0., 0.],\n",
       "       [0., 5., 0., 0., 0.],\n",
       "       [0., 4., 0., 0., 0.],\n",
       "       [0., 3., 1., 0., 0.],\n",
       "       [0., 2., 2., 0., 0.],\n",
       "       [0., 1., 3., 0., 0.],\n",
       "       [0., 0., 3., 0., 0.],\n",
       "       [0., 0., 3., 1., 0.],\n",
       "       [0., 0., 2., 2., 0.],\n",
       "       [0., 0., 1., 3., 0.],\n",
       "       [0., 0., 0., 4., 0.],\n",
       "       [0., 0., 0., 5., 0.],\n",
       "       [0., 0., 0., 5., 0.],\n",
       "       [0., 0., 0., 4., 0.],\n",
       "       [0., 0., 0., 3., 1.],\n",
       "       [0., 0., 0., 2., 2.],\n",
       "       [0., 0., 0., 1., 3.],\n",
       "       [0., 0., 0., 0., 3.],\n",
       "       [0., 0., 0., 0., 3.]])"
      ]
     },
     "execution_count": 51,
     "metadata": {},
     "output_type": "execute_result"
    }
   ],
   "source": [
    "import numpy as np\n",
    "\n",
    "# 创建一个示例数组，包含五个状态：1、2、3、4、5\n",
    "arr = np.array([0, 0, 1, 1, 1, 0, 1, 1, 1, 1, 0, 2, 2, 2, 2, 2, 0, 3, 3, 3, 0, 4, 4, 4, 4, 4, 4, 0, 5, 5, 5])\n",
    "\n",
    "# 将五个状态的元素分别设为 1、2、3、4、5\n",
    "arr_states = np.zeros((len(arr), 5), dtype=int)\n",
    "for i in range(1, 6):\n",
    "    arr_states[:, i-1][arr == i] = 1\n",
    "    \n",
    "# 使用卷积操作查找连续的五个相同的元素\n",
    "kernel = np.ones(5)\n",
    "result_states = np.apply_along_axis(lambda x: np.convolve(x, kernel, mode='same'), axis=0, arr=arr_states)\n",
    "result_states"
   ]
  },
  {
   "cell_type": "code",
   "execution_count": 14,
   "metadata": {},
   "outputs": [],
   "source": [
    "# Importing necessary paackages\n",
    "import pandas as pd\n",
    "import numpy as np\n",
    "import matplotlib.pyplot as plt\n",
    "%matplotlib inline\n",
    "import seaborn as sns\n",
    "\n",
    "import re\n",
    "import nltk\n",
    "from nltk.corpus import stopwords\n",
    "from nltk.stem.porter import PorterStemmer\n",
    "from nltk.tokenize import word_tokenize, sent_tokenize\n",
    "from nltk.stem.wordnet import WordNetLemmatizer\n",
    "import string\n",
    "\n",
    "from sklearn.model_selection import train_test_split\n",
    "from sklearn.model_selection import cross_val_score, GridSearchCV\n",
    "from sklearn.metrics import confusion_matrix, classification_report, accuracy_score, f1_score , recall_score\n",
    "from sklearn.naive_bayes import MultinomialNB\n",
    "from sklearn.feature_extraction.text import CountVectorizer, TfidfTransformer\n",
    "from sklearn.pipeline import Pipeline\n",
    "import xgboost as xgb\n",
    "seed = 4353"
   ]
  },
  {
   "cell_type": "code",
   "execution_count": 2,
   "metadata": {},
   "outputs": [
    {
     "data": {
      "text/html": [
       "<div>\n",
       "<style scoped>\n",
       "    .dataframe tbody tr th:only-of-type {\n",
       "        vertical-align: middle;\n",
       "    }\n",
       "\n",
       "    .dataframe tbody tr th {\n",
       "        vertical-align: top;\n",
       "    }\n",
       "\n",
       "    .dataframe thead th {\n",
       "        text-align: right;\n",
       "    }\n",
       "</style>\n",
       "<table border=\"1\" class=\"dataframe\">\n",
       "  <thead>\n",
       "    <tr style=\"text-align: right;\">\n",
       "      <th></th>\n",
       "      <th>Melt temperature</th>\n",
       "      <th>Mold temperature</th>\n",
       "      <th>time_to_fill</th>\n",
       "      <th>ZDx - Plasticizing time</th>\n",
       "      <th>ZUx - Cycle time</th>\n",
       "      <th>SKx - Closing force</th>\n",
       "      <th>SKs - Clamping force peak value</th>\n",
       "      <th>Ms - Torque peak value current cycle</th>\n",
       "      <th>Mm - Torque mean value current cycle</th>\n",
       "      <th>APSs - Specific back pressure peak value</th>\n",
       "      <th>APVs - Specific injection pressure peak value</th>\n",
       "      <th>CPn - Screw position at the end of hold pressure</th>\n",
       "      <th>SVo - Shot volume</th>\n",
       "      <th>quality</th>\n",
       "    </tr>\n",
       "  </thead>\n",
       "  <tbody>\n",
       "    <tr>\n",
       "      <th>0</th>\n",
       "      <td>106.476184</td>\n",
       "      <td>80.617</td>\n",
       "      <td>7.124</td>\n",
       "      <td>3.16</td>\n",
       "      <td>74.83</td>\n",
       "      <td>886.900000</td>\n",
       "      <td>904.000000</td>\n",
       "      <td>116.9</td>\n",
       "      <td>104.300000</td>\n",
       "      <td>145.6</td>\n",
       "      <td>922.3</td>\n",
       "      <td>8.82</td>\n",
       "      <td>18.73</td>\n",
       "      <td>1</td>\n",
       "    </tr>\n",
       "    <tr>\n",
       "      <th>1</th>\n",
       "      <td>105.505000</td>\n",
       "      <td>81.362</td>\n",
       "      <td>6.968</td>\n",
       "      <td>3.16</td>\n",
       "      <td>74.81</td>\n",
       "      <td>919.409791</td>\n",
       "      <td>935.900000</td>\n",
       "      <td>113.9</td>\n",
       "      <td>104.900000</td>\n",
       "      <td>145.6</td>\n",
       "      <td>930.5</td>\n",
       "      <td>8.59</td>\n",
       "      <td>18.73</td>\n",
       "      <td>1</td>\n",
       "    </tr>\n",
       "    <tr>\n",
       "      <th>2</th>\n",
       "      <td>105.505000</td>\n",
       "      <td>80.411</td>\n",
       "      <td>6.864</td>\n",
       "      <td>4.08</td>\n",
       "      <td>74.81</td>\n",
       "      <td>908.600000</td>\n",
       "      <td>902.344823</td>\n",
       "      <td>120.5</td>\n",
       "      <td>106.503496</td>\n",
       "      <td>147.0</td>\n",
       "      <td>933.1</td>\n",
       "      <td>8.80</td>\n",
       "      <td>18.98</td>\n",
       "      <td>1</td>\n",
       "    </tr>\n",
       "    <tr>\n",
       "      <th>3</th>\n",
       "      <td>106.474827</td>\n",
       "      <td>81.162</td>\n",
       "      <td>6.864</td>\n",
       "      <td>3.16</td>\n",
       "      <td>74.82</td>\n",
       "      <td>879.410870</td>\n",
       "      <td>902.033653</td>\n",
       "      <td>127.3</td>\n",
       "      <td>104.900000</td>\n",
       "      <td>145.6</td>\n",
       "      <td>922.3</td>\n",
       "      <td>8.85</td>\n",
       "      <td>18.73</td>\n",
       "      <td>1</td>\n",
       "    </tr>\n",
       "    <tr>\n",
       "      <th>4</th>\n",
       "      <td>106.466140</td>\n",
       "      <td>81.471</td>\n",
       "      <td>6.864</td>\n",
       "      <td>3.22</td>\n",
       "      <td>74.83</td>\n",
       "      <td>885.644260</td>\n",
       "      <td>902.821269</td>\n",
       "      <td>120.5</td>\n",
       "      <td>106.700000</td>\n",
       "      <td>145.6</td>\n",
       "      <td>917.5</td>\n",
       "      <td>8.80</td>\n",
       "      <td>18.75</td>\n",
       "      <td>1</td>\n",
       "    </tr>\n",
       "  </tbody>\n",
       "</table>\n",
       "</div>"
      ],
      "text/plain": [
       "   Melt temperature  Mold temperature  time_to_fill  ZDx - Plasticizing time  \\\n",
       "0        106.476184            80.617         7.124                     3.16   \n",
       "1        105.505000            81.362         6.968                     3.16   \n",
       "2        105.505000            80.411         6.864                     4.08   \n",
       "3        106.474827            81.162         6.864                     3.16   \n",
       "4        106.466140            81.471         6.864                     3.22   \n",
       "\n",
       "   ZUx - Cycle time  SKx - Closing force  SKs - Clamping force peak value  \\\n",
       "0             74.83           886.900000                       904.000000   \n",
       "1             74.81           919.409791                       935.900000   \n",
       "2             74.81           908.600000                       902.344823   \n",
       "3             74.82           879.410870                       902.033653   \n",
       "4             74.83           885.644260                       902.821269   \n",
       "\n",
       "   Ms - Torque peak value current cycle  Mm - Torque mean value current cycle  \\\n",
       "0                                 116.9                            104.300000   \n",
       "1                                 113.9                            104.900000   \n",
       "2                                 120.5                            106.503496   \n",
       "3                                 127.3                            104.900000   \n",
       "4                                 120.5                            106.700000   \n",
       "\n",
       "   APSs - Specific back pressure peak value  \\\n",
       "0                                     145.6   \n",
       "1                                     145.6   \n",
       "2                                     147.0   \n",
       "3                                     145.6   \n",
       "4                                     145.6   \n",
       "\n",
       "   APVs - Specific injection pressure peak value  \\\n",
       "0                                          922.3   \n",
       "1                                          930.5   \n",
       "2                                          933.1   \n",
       "3                                          922.3   \n",
       "4                                          917.5   \n",
       "\n",
       "   CPn - Screw position at the end of hold pressure  SVo - Shot volume  \\\n",
       "0                                              8.82              18.73   \n",
       "1                                              8.59              18.73   \n",
       "2                                              8.80              18.98   \n",
       "3                                              8.85              18.73   \n",
       "4                                              8.80              18.75   \n",
       "\n",
       "   quality  \n",
       "0        1  \n",
       "1        1  \n",
       "2        1  \n",
       "3        1  \n",
       "4        1  "
      ]
     },
     "execution_count": 2,
     "metadata": {},
     "output_type": "execute_result"
    }
   ],
   "source": [
    "data = pd.read_csv('C:/Users/LL/Desktop/proposal injection molding/Data Test/活頁簿1.csv')\n",
    "data.head()"
   ]
  },
  {
   "cell_type": "code",
   "execution_count": 3,
   "metadata": {},
   "outputs": [
    {
     "data": {
      "text/plain": [
       "Index(['melt temperature', 'mold temperature', 'time_to_fill',\n",
       "       'zdx - plasticizing time', 'zux - cycle time', 'skx - closing force',\n",
       "       'sks - clamping force peak value',\n",
       "       'ms - torque peak value current cycle',\n",
       "       'mm - torque mean value current cycle',\n",
       "       'apss - specific back pressure peak value',\n",
       "       'apvs - specific injection pressure peak value',\n",
       "       'cpn - screw position at the end of hold pressure', 'svo - shot volume',\n",
       "       'quality'],\n",
       "      dtype='object')"
      ]
     },
     "execution_count": 3,
     "metadata": {},
     "output_type": "execute_result"
    }
   ],
   "source": [
    "data.columns = data.columns.str.lower()\n",
    "data.columns"
   ]
  },
  {
   "cell_type": "code",
   "execution_count": 4,
   "metadata": {},
   "outputs": [
    {
     "data": {
      "text/plain": [
       "melt temperature                                    0\n",
       "mold temperature                                    0\n",
       "time_to_fill                                        0\n",
       "zdx - plasticizing time                             0\n",
       "zux - cycle time                                    0\n",
       "skx - closing force                                 0\n",
       "sks - clamping force peak value                     0\n",
       "ms - torque peak value current cycle                0\n",
       "mm - torque mean value current cycle                0\n",
       "apss - specific back pressure peak value            0\n",
       "apvs - specific injection pressure peak value       0\n",
       "cpn - screw position at the end of hold pressure    0\n",
       "svo - shot volume                                   0\n",
       "quality                                             0\n",
       "dtype: int64"
      ]
     },
     "execution_count": 4,
     "metadata": {},
     "output_type": "execute_result"
    }
   ],
   "source": [
    "data.isnull().sum()"
   ]
  },
  {
   "cell_type": "code",
   "execution_count": 3,
   "metadata": {},
   "outputs": [
    {
     "name": "stdout",
     "output_type": "stream",
     "text": [
      "The train dataset contans 1451 rows and 14 columns\n"
     ]
    }
   ],
   "source": [
    "print('The train dataset contans {} rows and {} columns'.format(data.shape[0], data.shape[1]))"
   ]
  },
  {
   "cell_type": "code",
   "execution_count": 4,
   "metadata": {},
   "outputs": [],
   "source": [
    "# running the function\n",
    "\n",
    "X_train, X_test, y_train, y_test = train_test_split(data.iloc[:,:12], data['quality'], test_size=0.25, random_state= seed)"
   ]
  },
  {
   "attachments": {},
   "cell_type": "markdown",
   "metadata": {},
   "source": [
    "MultinomialNB"
   ]
  },
  {
   "cell_type": "code",
   "execution_count": null,
   "metadata": {},
   "outputs": [],
   "source": [
    "# Instatiation, fitting and prediction\n",
    "\n",
    "MNB = MultinomialNB()\n",
    "MNB.fit(X_train, y_train)\n",
    "predictions = MNB.predict(X_test)"
   ]
  },
  {
   "cell_type": "code",
   "execution_count": null,
   "metadata": {},
   "outputs": [],
   "source": [
    "# Model evaluation\n",
    "\n",
    "print(classification_report(y_test, predictions))\n",
    "print(confusion_matrix(y_test, predictions))\n",
    "\n",
    "MNB_f1 = round(f1_score(y_test, predictions, average='weighted'), 3)\n",
    "MNB_accuracy = round((accuracy_score(y_test, predictions)*100),2)\n",
    "\n",
    "print(\"Accuracy : \" , MNB_accuracy , \" %\")\n",
    "print(\"f1_score : \" , MNB_f1)"
   ]
  },
  {
   "attachments": {},
   "cell_type": "markdown",
   "metadata": {},
   "source": [
    "RandomForestClassifier"
   ]
  },
  {
   "cell_type": "code",
   "execution_count": null,
   "metadata": {},
   "outputs": [],
   "source": [
    "# Instatiation, fitting and predictions\n",
    "\n",
    "from sklearn.ensemble import RandomForestClassifier\n",
    "\n",
    "rfc=RandomForestClassifier(n_estimators= 10, random_state= seed)\n",
    "rfc.fit(X_train, y_train)\n",
    "predictions = rfc.predict(X_test)"
   ]
  },
  {
   "cell_type": "code",
   "execution_count": null,
   "metadata": {},
   "outputs": [],
   "source": [
    "# Model evaluation\n",
    "\n",
    "print(classification_report(y_test, predictions))\n",
    "print(confusion_matrix(y_test, predictions))\n",
    "\n",
    "rfc_f1 = round(f1_score(y_test, predictions, average= 'weighted'), 3)\n",
    "rfc_accuracy = round((accuracy_score(y_test, predictions) * 100), 2)\n",
    "\n",
    "print(\"Accuracy : \" , rfc_accuracy , \" %\")\n",
    "print(\"f1_score : \" , rfc_f1)"
   ]
  },
  {
   "attachments": {},
   "cell_type": "markdown",
   "metadata": {},
   "source": [
    "SVC"
   ]
  },
  {
   "cell_type": "code",
   "execution_count": 5,
   "metadata": {},
   "outputs": [],
   "source": [
    "# Instatiation and fitting\n",
    "\n",
    "from sklearn.svm import SVC\n",
    "from sklearn.model_selection import KFold\n",
    "svc = SVC(random_state=seed)"
   ]
  },
  {
   "cell_type": "code",
   "execution_count": 12,
   "metadata": {},
   "outputs": [
    {
     "name": "stdout",
     "output_type": "stream",
     "text": [
      "Estimator:  SVC(C=1000, gamma=0.0001, random_state=4353)\n",
      "Best params : \n",
      " {'C': 1000, 'gamma': 0.0001, 'kernel': 'rbf'}\n",
      "Output Classes:  [1 2 3 4]\n",
      "Training Accuracy:  0.9200228300849786\n"
     ]
    }
   ],
   "source": [
    "# using KFold cross validation technique\n",
    "kf=  KFold(n_splits=5, random_state=seed, shuffle=True)\n",
    "\n",
    "# Hyperparametric tuning using grid search\n",
    "param_grid = [{'kernel':['rbf'],\n",
    "              'gamma':[0.001, 0.0001],\n",
    "              'C':[100, 1000]}]\n",
    "\n",
    "grid = GridSearchCV(estimator=svc, param_grid=param_grid, scoring='accuracy', cv=kf)\n",
    "grid.fit(X_train, y_train)\n",
    "\n",
    "print('Estimator: ', grid.best_estimator_)\n",
    "print('Best params : \\n', grid.best_params_)\n",
    "print('Output Classes: ', grid.classes_)\n",
    "print('Training Accuracy: ', grid.best_score_)"
   ]
  },
  {
   "cell_type": "code",
   "execution_count": 19,
   "metadata": {},
   "outputs": [
    {
     "name": "stdout",
     "output_type": "stream",
     "text": [
      "              precision    recall  f1-score   support\n",
      "\n",
      "           1       0.91      0.85      0.88        92\n",
      "           2       0.86      0.90      0.88       103\n",
      "           3       0.93      0.94      0.94        89\n",
      "           4       0.95      0.95      0.95        79\n",
      "\n",
      "    accuracy                           0.91       363\n",
      "   macro avg       0.91      0.91      0.91       363\n",
      "weighted avg       0.91      0.91      0.91       363\n",
      "\n",
      "Accuracy :  90.91  %\n",
      "f1_score :  0.909\n",
      "recall_score :  0.909\n"
     ]
    }
   ],
   "source": [
    "# predictions\n",
    "\n",
    "predictions = grid.predict(X_test)\n",
    "\n",
    "print(classification_report(y_test, predictions))\n",
    "\n",
    "svc_f1 = round(f1_score(y_test, predictions, average='weighted'), 3)\n",
    "svc_accuracy = round((accuracy_score(y_test, predictions)*100), 2)\n",
    "svc_recall = round((recall_score(y_test, predictions, average='weighted')*100), 2)\n",
    "\n",
    "print(\"Accuracy : \" , svc_accuracy , \" %\")\n",
    "print(\"f1_score : \" , svc_f1)\n",
    "print(\"recall_score : \" , svc_f1)"
   ]
  },
  {
   "attachments": {},
   "cell_type": "markdown",
   "metadata": {},
   "source": [
    "NuSVC"
   ]
  },
  {
   "cell_type": "code",
   "execution_count": null,
   "metadata": {},
   "outputs": [],
   "source": [
    "from sklearn.svm import NuSVC\n",
    "from sklearn.model_selection import KFold\n",
    "nusvc = NuSVC(random_state= seed)"
   ]
  },
  {
   "cell_type": "code",
   "execution_count": null,
   "metadata": {},
   "outputs": [],
   "source": [
    "# using KFold cross validation technique\n",
    "kf=  KFold(n_splits=5, random_state=seed, shuffle=True)\n",
    "\n",
    "# Hyperparametric tuning using grid search\n",
    "param_grid = [{'kernel':['rbf','linear','poly','sigmoid'],\n",
    "              'gamma':[1e-3, 1e-4]}]\n",
    "\n",
    "grid = GridSearchCV(estimator=nusvc, param_grid=param_grid, scoring='accuracy', cv=kf)\n",
    "grid.fit(X_train, y_train)\n",
    "\n",
    "print('Estimator: ', grid.best_estimator_)\n",
    "print('Best params : \\n', grid.best_params_)\n",
    "print('Output Classes: ', grid.classes_)\n",
    "print('Training Accuracy: ', grid.best_score_)"
   ]
  },
  {
   "cell_type": "code",
   "execution_count": null,
   "metadata": {},
   "outputs": [],
   "source": [
    "# predictions\n",
    "\n",
    "predictions = grid.predict(X_test)\n",
    "\n",
    "print(classification_report(y_test, predictions))\n",
    "\n",
    "nusvc_f1 = round(f1_score(y_test, predictions, average='weighted'), 3)\n",
    "nusvc_accuracy = round((accuracy_score(y_test, predictions)*100), 2)\n",
    "\n",
    "print(\"Accuracy : \" , nusvc_accuracy , \" %\")\n",
    "print(\"f1_score : \" , nusvc_f1)"
   ]
  },
  {
   "cell_type": "code",
   "execution_count": 21,
   "metadata": {},
   "outputs": [],
   "source": [
    "from xgboost import XGBClassifier\n",
    "xgb = XGBClassifier(random_state= seed)"
   ]
  },
  {
   "cell_type": "code",
   "execution_count": 22,
   "metadata": {},
   "outputs": [],
   "source": [
    "from sklearn.model_selection import RandomizedSearchCV"
   ]
  },
  {
   "cell_type": "code",
   "execution_count": 23,
   "metadata": {},
   "outputs": [
    {
     "data": {
      "text/plain": [
       "{'n_estimators': [200, 400, 600, 800, 1000, 1200, 1400, 1600, 1800, 2000],\n",
       " 'max_depth': [10, 20, 30, 40, 50, 60, 70, 80, 90, 100, 110, None],\n",
       " 'learning_rate': [0.01, 0.03, 0.05, 0.07, 0.09, 0.12, 0.14, 0.16, 0.18, 0.2],\n",
       " 'colsample_bytree': [0.1, 0.2, 0.3, 0.4, 0.5, 0.6, 0.7, 0.8, 0.9, 1.0]}"
      ]
     },
     "execution_count": 23,
     "metadata": {},
     "output_type": "execute_result"
    }
   ],
   "source": [
    "n_estimators = [int(x) for x in np.linspace(start=200, stop=2000, num=10)]\n",
    "max_depth = [int(x) for x in np.linspace(10, 110, num=11)]\n",
    "max_depth.append(None)\n",
    "learning_rate=[round(float(x),2) for x in np.linspace(start=0.01, stop=0.2, num=10)]\n",
    "colsample_bytree =[round(float(x),2) for x in np.linspace(start=0.1, stop=1, num=10)]\n",
    "\n",
    "random_grid = {'n_estimators': n_estimators,\n",
    "               'max_depth': max_depth,\n",
    "               'learning_rate': learning_rate,\n",
    "               'colsample_bytree': colsample_bytree}\n",
    "random_grid "
   ]
  },
  {
   "cell_type": "code",
   "execution_count": 32,
   "metadata": {},
   "outputs": [],
   "source": [
    "from sklearn.preprocessing import LabelEncoder\n",
    "le = LabelEncoder()\n",
    "y_train = le.fit_transform(y_train)"
   ]
  },
  {
   "cell_type": "code",
   "execution_count": 33,
   "metadata": {},
   "outputs": [
    {
     "name": "stdout",
     "output_type": "stream",
     "text": [
      "\n",
      "XGBClassifier(base_score=0.5, booster='gbtree', callbacks=None,\n",
      "              colsample_bylevel=1, colsample_bynode=1, colsample_bytree=1,\n",
      "              early_stopping_rounds=None, enable_categorical=False,\n",
      "              eval_metric=None, gamma=0, gpu_id=-1, grow_policy='depthwise',\n",
      "              importance_type=None, interaction_constraints='',\n",
      "              learning_rate=0.300000012, max_bin=256, max_cat_to_onehot=4,\n",
      "              max_delta_step=0, max_depth=6, max_leaves=0, min_child_weight=1,\n",
      "              missing=nan, monotone_constraints='()', n_estimators=100,\n",
      "              n_jobs=0, num_parallel_tree=1, objective='multi:softprob',\n",
      "              predictor='auto', random_state=4353, reg_alpha=0, ...)\n"
     ]
    }
   ],
   "source": [
    "model = XGBClassifier(random_state= seed)\n",
    "model.fit(X_train, y_train)\n",
    "print(); print(model)"
   ]
  },
  {
   "cell_type": "code",
   "execution_count": 34,
   "metadata": {},
   "outputs": [
    {
     "name": "stdout",
     "output_type": "stream",
     "text": [
      "Fitting 3 folds for each of 100 candidates, totalling 300 fits\n"
     ]
    },
    {
     "data": {
      "text/plain": [
       "{'n_estimators': 1000,\n",
       " 'max_depth': 20,\n",
       " 'learning_rate': 0.09,\n",
       " 'colsample_bytree': 0.4}"
      ]
     },
     "execution_count": 34,
     "metadata": {},
     "output_type": "execute_result"
    }
   ],
   "source": [
    "#Random search of parameters, using 3 fold cross validation, search across 100 different combinations, and use all available cores\n",
    "xg_random = RandomizedSearchCV(estimator = model, param_distributions=random_grid,\n",
    "                              n_iter=100, cv=3, verbose=2, random_state=seed, n_jobs=-1)\n",
    "\n",
    "xg_random.fit(X_train,y_train)\n",
    "xg_random.best_params_"
   ]
  },
  {
   "cell_type": "code",
   "execution_count": 37,
   "metadata": {},
   "outputs": [
    {
     "data": {
      "text/plain": [
       "{'n_estimators': [200, 400, 600, 800, 1000, 1200, 1400, 1600, 1800, 2000],\n",
       " 'max_depth': [10, 20, 30, 40, 50, 60, 70, 80, 90, 100, 110, None],\n",
       " 'learning_rate': [0.01, 0.03, 0.05, 0.07, 0.09, 0.12, 0.14, 0.16, 0.18, 0.2],\n",
       " 'colsample_bytree': [0.1, 0.2, 0.3, 0.4, 0.5, 0.6, 0.7, 0.8, 0.9, 1.0]}"
      ]
     },
     "execution_count": 37,
     "metadata": {},
     "output_type": "execute_result"
    }
   ],
   "source": [
    "random_grid"
   ]
  },
  {
   "cell_type": "code",
   "execution_count": 41,
   "metadata": {},
   "outputs": [
    {
     "name": "stdout",
     "output_type": "stream",
     "text": [
      "Estimator:  XGBClassifier(base_score=0.5, booster='gbtree', callbacks=None,\n",
      "              colsample_bylevel=1, colsample_bynode=1, colsample_bytree=0.4,\n",
      "              early_stopping_rounds=None, enable_categorical=False,\n",
      "              eval_metric=None, gamma=0, gpu_id=-1, grow_policy='depthwise',\n",
      "              importance_type=None, interaction_constraints='',\n",
      "              learning_rate=0.09, max_bin=256, max_cat_to_onehot=4,\n",
      "              max_delta_step=0, max_depth=20, max_leaves=0, min_child_weight=1,\n",
      "              missing=nan, monotone_constraints='()', n_estimators=1000,\n",
      "              n_jobs=0, num_parallel_tree=1, objective='multi:softprob',\n",
      "              predictor='auto', random_state=4353, reg_alpha=0, ...)\n",
      "Best params : \n",
      " {'n_estimators': 1000, 'max_depth': 20, 'learning_rate': 0.09, 'colsample_bytree': 0.4}\n",
      "Output Classes:  [0 1 2 3]\n",
      "Training Accuracy:  0.9420853436423502\n"
     ]
    }
   ],
   "source": [
    "print('Estimator: ', xg_random.best_estimator_)\n",
    "print('Best params : \\n', xg_random.best_params_)\n",
    "print('Output Classes: ', xg_random.classes_)\n",
    "print('Training Accuracy: ', xg_random.best_score_)"
   ]
  }
 ],
 "metadata": {
  "kernelspec": {
   "display_name": "Python 3",
   "language": "python",
   "name": "python3"
  },
  "language_info": {
   "codemirror_mode": {
    "name": "ipython",
    "version": 3
   },
   "file_extension": ".py",
   "mimetype": "text/x-python",
   "name": "python",
   "nbconvert_exporter": "python",
   "pygments_lexer": "ipython3",
   "version": "3.9.13"
  },
  "orig_nbformat": 4,
  "vscode": {
   "interpreter": {
    "hash": "47aea66f71e7fdb103b1737d394a756c17127304a0e5b79056f1465daabedcb8"
   }
  }
 },
 "nbformat": 4,
 "nbformat_minor": 2
}
